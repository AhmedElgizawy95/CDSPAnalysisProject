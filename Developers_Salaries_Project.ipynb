{
 "cells": [
  {
   "cell_type": "markdown",
   "id": "ce468c4a",
   "metadata": {},
   "source": [
    "# Software Developers Salaries Analysis Project"
   ]
  },
  {
   "cell_type": "markdown",
   "id": "55cfbe4e",
   "metadata": {},
   "source": [
    "## Introduction : "
   ]
  },
  {
   "cell_type": "markdown",
   "id": "9eab9a89",
   "metadata": {},
   "source": [
    "###### *  The Data Used in this Analysis is based on an online survey from 181 different Countries about Software Developer Salaries\n",
    "###### * The overall  goal of this Analysis is to explore the average Annual Salary of Software Developers around the world, Find out which software tools are widely used by High Paid Software Roles ( Operating Systems , Programming Languages ,  Managment Information Systems , Web Frame Works ) .\n",
    "\n",
    "###### *  I started by Exploring the raw data , Then did some preprocessing  ( cleaning ) like dealing with missing values and featured new columns that didnt exist in the raw data to help me get new insight out of the data.\n",
    "\n",
    "###### * At the end , I did some Analysis for my country ( Egypt ) and Other Country of interest ( Germany ) and did a simple comparison."
   ]
  },
  {
   "cell_type": "markdown",
   "id": "63fdb5e5",
   "metadata": {},
   "source": [
    "### Importing Essential Libraries"
   ]
  },
  {
   "cell_type": "code",
   "execution_count": 114,
   "id": "6063f7c7",
   "metadata": {},
   "outputs": [],
   "source": [
    "import pandas as pd\n",
    "import numpy as np\n",
    "import csv\n",
    "import matplotlib.pyplot as plt\n",
    "import seaborn as sns"
   ]
  },
  {
   "cell_type": "markdown",
   "id": "3e367ad9",
   "metadata": {},
   "source": [
    "### Reading Data from CSV file"
   ]
  },
  {
   "cell_type": "code",
   "execution_count": 115,
   "id": "78e50945",
   "metadata": {},
   "outputs": [],
   "source": [
    "RawData = pd.read_csv('survey_results_public.csv')"
   ]
  },
  {
   "cell_type": "code",
   "execution_count": 116,
   "id": "7e275b90",
   "metadata": {},
   "outputs": [],
   "source": [
    "pd.set_option('display.max_columns', 100)"
   ]
  },
  {
   "cell_type": "code",
   "execution_count": 117,
   "id": "d0e53095",
   "metadata": {},
   "outputs": [],
   "source": [
    "pd.options.display.float_format = '{:.20f}'.format"
   ]
  },
  {
   "cell_type": "markdown",
   "id": "6bcf1966",
   "metadata": {},
   "source": [
    "### Saving a copy of the data just in case."
   ]
  },
  {
   "cell_type": "code",
   "execution_count": 118,
   "id": "e256548e",
   "metadata": {},
   "outputs": [],
   "source": [
    "df = RawData.copy()"
   ]
  },
  {
   "cell_type": "markdown",
   "id": "f261632b",
   "metadata": {},
   "source": [
    "## Exploring the data "
   ]
  },
  {
   "cell_type": "code",
   "execution_count": 119,
   "id": "eb825d60",
   "metadata": {},
   "outputs": [
    {
     "data": {
      "text/plain": [
       "(83439, 48)"
      ]
     },
     "execution_count": 119,
     "metadata": {},
     "output_type": "execute_result"
    }
   ],
   "source": [
    "df.shape"
   ]
  },
  {
   "cell_type": "code",
   "execution_count": 120,
   "id": "1de6317b",
   "metadata": {},
   "outputs": [
    {
     "data": {
      "text/html": [
       "<div>\n",
       "<style scoped>\n",
       "    .dataframe tbody tr th:only-of-type {\n",
       "        vertical-align: middle;\n",
       "    }\n",
       "\n",
       "    .dataframe tbody tr th {\n",
       "        vertical-align: top;\n",
       "    }\n",
       "\n",
       "    .dataframe thead th {\n",
       "        text-align: right;\n",
       "    }\n",
       "</style>\n",
       "<table border=\"1\" class=\"dataframe\">\n",
       "  <thead>\n",
       "    <tr style=\"text-align: right;\">\n",
       "      <th></th>\n",
       "      <th>ResponseId</th>\n",
       "      <th>CompTotal</th>\n",
       "      <th>ConvertedCompYearly</th>\n",
       "    </tr>\n",
       "  </thead>\n",
       "  <tbody>\n",
       "    <tr>\n",
       "      <th>count</th>\n",
       "      <td>83439.00000000000000000000</td>\n",
       "      <td>47183.00000000000000000000</td>\n",
       "      <td>46844.00000000000000000000</td>\n",
       "    </tr>\n",
       "    <tr>\n",
       "      <th>mean</th>\n",
       "      <td>41720.00000000000000000000</td>\n",
       "      <td>21194074136871328176358896618385873754265419677...</td>\n",
       "      <td>118426.15289044487872160971</td>\n",
       "    </tr>\n",
       "    <tr>\n",
       "      <th>std</th>\n",
       "      <td>24086.90889259142932132818</td>\n",
       "      <td>46037022206959015785285187855167055576782594803...</td>\n",
       "      <td>527294.35529012384358793497</td>\n",
       "    </tr>\n",
       "    <tr>\n",
       "      <th>min</th>\n",
       "      <td>1.00000000000000000000</td>\n",
       "      <td>0.00000000000000000000</td>\n",
       "      <td>1.00000000000000000000</td>\n",
       "    </tr>\n",
       "    <tr>\n",
       "      <th>25%</th>\n",
       "      <td>20860.50000000000000000000</td>\n",
       "      <td>16000.00000000000000000000</td>\n",
       "      <td>27025.00000000000000000000</td>\n",
       "    </tr>\n",
       "    <tr>\n",
       "      <th>50%</th>\n",
       "      <td>41720.00000000000000000000</td>\n",
       "      <td>67000.00000000000000000000</td>\n",
       "      <td>56211.00000000000000000000</td>\n",
       "    </tr>\n",
       "    <tr>\n",
       "      <th>75%</th>\n",
       "      <td>62579.50000000000000000000</td>\n",
       "      <td>140000.00000000000000000000</td>\n",
       "      <td>100000.00000000000000000000</td>\n",
       "    </tr>\n",
       "    <tr>\n",
       "      <th>max</th>\n",
       "      <td>83439.00000000000000000000</td>\n",
       "      <td>99999999999999995164818811802792197885196090803...</td>\n",
       "      <td>45241312.00000000000000000000</td>\n",
       "    </tr>\n",
       "  </tbody>\n",
       "</table>\n",
       "</div>"
      ],
      "text/plain": [
       "                      ResponseId  \\\n",
       "count 83439.00000000000000000000   \n",
       "mean  41720.00000000000000000000   \n",
       "std   24086.90889259142932132818   \n",
       "min       1.00000000000000000000   \n",
       "25%   20860.50000000000000000000   \n",
       "50%   41720.00000000000000000000   \n",
       "75%   62579.50000000000000000000   \n",
       "max   83439.00000000000000000000   \n",
       "\n",
       "                                               CompTotal  \\\n",
       "count                         47183.00000000000000000000   \n",
       "mean  21194074136871328176358896618385873754265419677...   \n",
       "std   46037022206959015785285187855167055576782594803...   \n",
       "min                               0.00000000000000000000   \n",
       "25%                           16000.00000000000000000000   \n",
       "50%                           67000.00000000000000000000   \n",
       "75%                          140000.00000000000000000000   \n",
       "max   99999999999999995164818811802792197885196090803...   \n",
       "\n",
       "                ConvertedCompYearly  \n",
       "count    46844.00000000000000000000  \n",
       "mean    118426.15289044487872160971  \n",
       "std     527294.35529012384358793497  \n",
       "min          1.00000000000000000000  \n",
       "25%      27025.00000000000000000000  \n",
       "50%      56211.00000000000000000000  \n",
       "75%     100000.00000000000000000000  \n",
       "max   45241312.00000000000000000000  "
      ]
     },
     "execution_count": 120,
     "metadata": {},
     "output_type": "execute_result"
    }
   ],
   "source": [
    "df.describe()"
   ]
  },
  {
   "cell_type": "code",
   "execution_count": 121,
   "id": "2b99dbef",
   "metadata": {},
   "outputs": [
    {
     "data": {
      "text/html": [
       "<div>\n",
       "<style scoped>\n",
       "    .dataframe tbody tr th:only-of-type {\n",
       "        vertical-align: middle;\n",
       "    }\n",
       "\n",
       "    .dataframe tbody tr th {\n",
       "        vertical-align: top;\n",
       "    }\n",
       "\n",
       "    .dataframe thead th {\n",
       "        text-align: right;\n",
       "    }\n",
       "</style>\n",
       "<table border=\"1\" class=\"dataframe\">\n",
       "  <thead>\n",
       "    <tr style=\"text-align: right;\">\n",
       "      <th></th>\n",
       "      <th>ResponseId</th>\n",
       "      <th>MainBranch</th>\n",
       "      <th>Employment</th>\n",
       "      <th>Country</th>\n",
       "      <th>US_State</th>\n",
       "      <th>UK_Country</th>\n",
       "      <th>EdLevel</th>\n",
       "      <th>Age1stCode</th>\n",
       "      <th>LearnCode</th>\n",
       "      <th>YearsCode</th>\n",
       "      <th>YearsCodePro</th>\n",
       "      <th>DevType</th>\n",
       "      <th>OrgSize</th>\n",
       "      <th>Currency</th>\n",
       "      <th>CompTotal</th>\n",
       "      <th>CompFreq</th>\n",
       "      <th>LanguageHaveWorkedWith</th>\n",
       "      <th>LanguageWantToWorkWith</th>\n",
       "      <th>DatabaseHaveWorkedWith</th>\n",
       "      <th>DatabaseWantToWorkWith</th>\n",
       "      <th>PlatformHaveWorkedWith</th>\n",
       "      <th>PlatformWantToWorkWith</th>\n",
       "      <th>WebframeHaveWorkedWith</th>\n",
       "      <th>WebframeWantToWorkWith</th>\n",
       "      <th>MiscTechHaveWorkedWith</th>\n",
       "      <th>MiscTechWantToWorkWith</th>\n",
       "      <th>ToolsTechHaveWorkedWith</th>\n",
       "      <th>ToolsTechWantToWorkWith</th>\n",
       "      <th>NEWCollabToolsHaveWorkedWith</th>\n",
       "      <th>NEWCollabToolsWantToWorkWith</th>\n",
       "      <th>OpSys</th>\n",
       "      <th>NEWStuck</th>\n",
       "      <th>NEWSOSites</th>\n",
       "      <th>SOVisitFreq</th>\n",
       "      <th>SOAccount</th>\n",
       "      <th>SOPartFreq</th>\n",
       "      <th>SOComm</th>\n",
       "      <th>NEWOtherComms</th>\n",
       "      <th>Age</th>\n",
       "      <th>Gender</th>\n",
       "      <th>Trans</th>\n",
       "      <th>Sexuality</th>\n",
       "      <th>Ethnicity</th>\n",
       "      <th>Accessibility</th>\n",
       "      <th>MentalHealth</th>\n",
       "      <th>SurveyLength</th>\n",
       "      <th>SurveyEase</th>\n",
       "      <th>ConvertedCompYearly</th>\n",
       "    </tr>\n",
       "  </thead>\n",
       "  <tbody>\n",
       "    <tr>\n",
       "      <th>0</th>\n",
       "      <td>1</td>\n",
       "      <td>I am a developer by profession</td>\n",
       "      <td>Independent contractor, freelancer, or self-em...</td>\n",
       "      <td>Slovakia</td>\n",
       "      <td>NaN</td>\n",
       "      <td>NaN</td>\n",
       "      <td>Secondary school (e.g. American high school, G...</td>\n",
       "      <td>18 - 24 years</td>\n",
       "      <td>Coding Bootcamp;Other online resources (ex: vi...</td>\n",
       "      <td>NaN</td>\n",
       "      <td>NaN</td>\n",
       "      <td>Developer, mobile</td>\n",
       "      <td>20 to 99 employees</td>\n",
       "      <td>EUR European Euro</td>\n",
       "      <td>4800.00000000000000000000</td>\n",
       "      <td>Monthly</td>\n",
       "      <td>C++;HTML/CSS;JavaScript;Objective-C;PHP;Swift</td>\n",
       "      <td>Swift</td>\n",
       "      <td>PostgreSQL;SQLite</td>\n",
       "      <td>SQLite</td>\n",
       "      <td>NaN</td>\n",
       "      <td>NaN</td>\n",
       "      <td>Laravel;Symfony</td>\n",
       "      <td>NaN</td>\n",
       "      <td>NaN</td>\n",
       "      <td>NaN</td>\n",
       "      <td>NaN</td>\n",
       "      <td>NaN</td>\n",
       "      <td>PHPStorm;Xcode</td>\n",
       "      <td>Atom;Xcode</td>\n",
       "      <td>MacOS</td>\n",
       "      <td>Call a coworker or friend;Visit Stack Overflow...</td>\n",
       "      <td>Stack Overflow</td>\n",
       "      <td>Multiple times per day</td>\n",
       "      <td>Yes</td>\n",
       "      <td>A few times per month or weekly</td>\n",
       "      <td>Yes, definitely</td>\n",
       "      <td>No</td>\n",
       "      <td>25-34 years old</td>\n",
       "      <td>Man</td>\n",
       "      <td>No</td>\n",
       "      <td>Straight / Heterosexual</td>\n",
       "      <td>White or of European descent</td>\n",
       "      <td>None of the above</td>\n",
       "      <td>None of the above</td>\n",
       "      <td>Appropriate in length</td>\n",
       "      <td>Easy</td>\n",
       "      <td>62268.00000000000000000000</td>\n",
       "    </tr>\n",
       "    <tr>\n",
       "      <th>1</th>\n",
       "      <td>2</td>\n",
       "      <td>I am a student who is learning to code</td>\n",
       "      <td>Student, full-time</td>\n",
       "      <td>Netherlands</td>\n",
       "      <td>NaN</td>\n",
       "      <td>NaN</td>\n",
       "      <td>Bachelor’s degree (B.A., B.S., B.Eng., etc.)</td>\n",
       "      <td>11 - 17 years</td>\n",
       "      <td>Other online resources (ex: videos, blogs, etc...</td>\n",
       "      <td>7</td>\n",
       "      <td>NaN</td>\n",
       "      <td>NaN</td>\n",
       "      <td>NaN</td>\n",
       "      <td>NaN</td>\n",
       "      <td>NaN</td>\n",
       "      <td>NaN</td>\n",
       "      <td>JavaScript;Python</td>\n",
       "      <td>NaN</td>\n",
       "      <td>PostgreSQL</td>\n",
       "      <td>NaN</td>\n",
       "      <td>NaN</td>\n",
       "      <td>NaN</td>\n",
       "      <td>Angular;Flask;Vue.js</td>\n",
       "      <td>NaN</td>\n",
       "      <td>Cordova</td>\n",
       "      <td>NaN</td>\n",
       "      <td>Docker;Git;Yarn</td>\n",
       "      <td>Git</td>\n",
       "      <td>Android Studio;IntelliJ;Notepad++;PyCharm</td>\n",
       "      <td>NaN</td>\n",
       "      <td>Windows</td>\n",
       "      <td>Visit Stack Overflow;Google it</td>\n",
       "      <td>Stack Overflow</td>\n",
       "      <td>Daily or almost daily</td>\n",
       "      <td>Yes</td>\n",
       "      <td>Daily or almost daily</td>\n",
       "      <td>Yes, definitely</td>\n",
       "      <td>No</td>\n",
       "      <td>18-24 years old</td>\n",
       "      <td>Man</td>\n",
       "      <td>No</td>\n",
       "      <td>Straight / Heterosexual</td>\n",
       "      <td>White or of European descent</td>\n",
       "      <td>None of the above</td>\n",
       "      <td>None of the above</td>\n",
       "      <td>Appropriate in length</td>\n",
       "      <td>Easy</td>\n",
       "      <td>NaN</td>\n",
       "    </tr>\n",
       "    <tr>\n",
       "      <th>2</th>\n",
       "      <td>3</td>\n",
       "      <td>I am not primarily a developer, but I write co...</td>\n",
       "      <td>Student, full-time</td>\n",
       "      <td>Russian Federation</td>\n",
       "      <td>NaN</td>\n",
       "      <td>NaN</td>\n",
       "      <td>Bachelor’s degree (B.A., B.S., B.Eng., etc.)</td>\n",
       "      <td>11 - 17 years</td>\n",
       "      <td>Other online resources (ex: videos, blogs, etc...</td>\n",
       "      <td>NaN</td>\n",
       "      <td>NaN</td>\n",
       "      <td>NaN</td>\n",
       "      <td>NaN</td>\n",
       "      <td>NaN</td>\n",
       "      <td>NaN</td>\n",
       "      <td>NaN</td>\n",
       "      <td>Assembly;C;Python;R;Rust</td>\n",
       "      <td>Julia;Python;Rust</td>\n",
       "      <td>SQLite</td>\n",
       "      <td>SQLite</td>\n",
       "      <td>Heroku</td>\n",
       "      <td>NaN</td>\n",
       "      <td>Flask</td>\n",
       "      <td>Flask</td>\n",
       "      <td>NumPy;Pandas;TensorFlow;Torch/PyTorch</td>\n",
       "      <td>Keras;NumPy;Pandas;TensorFlow;Torch/PyTorch</td>\n",
       "      <td>NaN</td>\n",
       "      <td>NaN</td>\n",
       "      <td>IPython/Jupyter;PyCharm;RStudio;Sublime Text;V...</td>\n",
       "      <td>IPython/Jupyter;RStudio;Sublime Text;Visual St...</td>\n",
       "      <td>MacOS</td>\n",
       "      <td>Visit Stack Overflow;Google it;Watch help / tu...</td>\n",
       "      <td>Stack Overflow;Stack Exchange</td>\n",
       "      <td>Multiple times per day</td>\n",
       "      <td>Yes</td>\n",
       "      <td>Multiple times per day</td>\n",
       "      <td>Yes, definitely</td>\n",
       "      <td>Yes</td>\n",
       "      <td>18-24 years old</td>\n",
       "      <td>Man</td>\n",
       "      <td>No</td>\n",
       "      <td>Prefer not to say</td>\n",
       "      <td>Prefer not to say</td>\n",
       "      <td>None of the above</td>\n",
       "      <td>None of the above</td>\n",
       "      <td>Appropriate in length</td>\n",
       "      <td>Easy</td>\n",
       "      <td>NaN</td>\n",
       "    </tr>\n",
       "    <tr>\n",
       "      <th>3</th>\n",
       "      <td>4</td>\n",
       "      <td>I am a developer by profession</td>\n",
       "      <td>Employed full-time</td>\n",
       "      <td>Austria</td>\n",
       "      <td>NaN</td>\n",
       "      <td>NaN</td>\n",
       "      <td>Master’s degree (M.A., M.S., M.Eng., MBA, etc.)</td>\n",
       "      <td>11 - 17 years</td>\n",
       "      <td>NaN</td>\n",
       "      <td>NaN</td>\n",
       "      <td>NaN</td>\n",
       "      <td>Developer, front-end</td>\n",
       "      <td>100 to 499 employees</td>\n",
       "      <td>EUR European Euro</td>\n",
       "      <td>NaN</td>\n",
       "      <td>Monthly</td>\n",
       "      <td>JavaScript;TypeScript</td>\n",
       "      <td>JavaScript;TypeScript</td>\n",
       "      <td>NaN</td>\n",
       "      <td>NaN</td>\n",
       "      <td>NaN</td>\n",
       "      <td>NaN</td>\n",
       "      <td>Angular;jQuery</td>\n",
       "      <td>Angular;jQuery</td>\n",
       "      <td>NaN</td>\n",
       "      <td>NaN</td>\n",
       "      <td>NaN</td>\n",
       "      <td>NaN</td>\n",
       "      <td>NaN</td>\n",
       "      <td>NaN</td>\n",
       "      <td>Windows</td>\n",
       "      <td>Call a coworker or friend;Visit Stack Overflow...</td>\n",
       "      <td>Stack Overflow</td>\n",
       "      <td>Daily or almost daily</td>\n",
       "      <td>Yes</td>\n",
       "      <td>Daily or almost daily</td>\n",
       "      <td>Neutral</td>\n",
       "      <td>No</td>\n",
       "      <td>35-44 years old</td>\n",
       "      <td>Man</td>\n",
       "      <td>No</td>\n",
       "      <td>Straight / Heterosexual</td>\n",
       "      <td>White or of European descent</td>\n",
       "      <td>I am deaf / hard of hearing</td>\n",
       "      <td>NaN</td>\n",
       "      <td>Appropriate in length</td>\n",
       "      <td>Neither easy nor difficult</td>\n",
       "      <td>NaN</td>\n",
       "    </tr>\n",
       "    <tr>\n",
       "      <th>4</th>\n",
       "      <td>5</td>\n",
       "      <td>I am a developer by profession</td>\n",
       "      <td>Independent contractor, freelancer, or self-em...</td>\n",
       "      <td>United Kingdom of Great Britain and Northern I...</td>\n",
       "      <td>NaN</td>\n",
       "      <td>England</td>\n",
       "      <td>Master’s degree (M.A., M.S., M.Eng., MBA, etc.)</td>\n",
       "      <td>5 - 10 years</td>\n",
       "      <td>Friend or family member</td>\n",
       "      <td>17</td>\n",
       "      <td>10</td>\n",
       "      <td>Developer, desktop or enterprise applications;...</td>\n",
       "      <td>Just me - I am a freelancer, sole proprietor, ...</td>\n",
       "      <td>GBP\\tPound sterling</td>\n",
       "      <td>NaN</td>\n",
       "      <td>NaN</td>\n",
       "      <td>Bash/Shell;HTML/CSS;Python;SQL</td>\n",
       "      <td>Bash/Shell;HTML/CSS;Python;SQL</td>\n",
       "      <td>Elasticsearch;PostgreSQL;Redis</td>\n",
       "      <td>Cassandra;Elasticsearch;PostgreSQL;Redis</td>\n",
       "      <td>NaN</td>\n",
       "      <td>NaN</td>\n",
       "      <td>Flask</td>\n",
       "      <td>Flask</td>\n",
       "      <td>Apache Spark;Hadoop;NumPy;Pandas</td>\n",
       "      <td>Hadoop;NumPy;Pandas</td>\n",
       "      <td>Docker;Git;Kubernetes;Yarn</td>\n",
       "      <td>Docker;Git;Kubernetes;Yarn</td>\n",
       "      <td>Atom;IPython/Jupyter;Notepad++;PyCharm;Vim</td>\n",
       "      <td>Atom;IPython/Jupyter;Notepad++;PyCharm;Vim;Vis...</td>\n",
       "      <td>Linux-based</td>\n",
       "      <td>Visit Stack Overflow;Go for a walk or other ph...</td>\n",
       "      <td>Stack Overflow;Stack Exchange</td>\n",
       "      <td>Daily or almost daily</td>\n",
       "      <td>Yes</td>\n",
       "      <td>A few times per week</td>\n",
       "      <td>Yes, somewhat</td>\n",
       "      <td>No</td>\n",
       "      <td>25-34 years old</td>\n",
       "      <td>Man</td>\n",
       "      <td>No</td>\n",
       "      <td>NaN</td>\n",
       "      <td>White or of European descent</td>\n",
       "      <td>None of the above</td>\n",
       "      <td>NaN</td>\n",
       "      <td>Appropriate in length</td>\n",
       "      <td>Easy</td>\n",
       "      <td>NaN</td>\n",
       "    </tr>\n",
       "    <tr>\n",
       "      <th>5</th>\n",
       "      <td>6</td>\n",
       "      <td>I am a student who is learning to code</td>\n",
       "      <td>Student, part-time</td>\n",
       "      <td>United States of America</td>\n",
       "      <td>Georgia</td>\n",
       "      <td>NaN</td>\n",
       "      <td>Bachelor’s degree (B.A., B.S., B.Eng., etc.)</td>\n",
       "      <td>11 - 17 years</td>\n",
       "      <td>Other online resources (ex: videos, blogs, etc...</td>\n",
       "      <td>NaN</td>\n",
       "      <td>NaN</td>\n",
       "      <td>NaN</td>\n",
       "      <td>NaN</td>\n",
       "      <td>NaN</td>\n",
       "      <td>NaN</td>\n",
       "      <td>NaN</td>\n",
       "      <td>C;C#;C++;HTML/CSS;Java;JavaScript;Node.js;Powe...</td>\n",
       "      <td>C#;C++;Go;HTML/CSS;Java;JavaScript;Node.js;Obj...</td>\n",
       "      <td>MySQL;PostgreSQL;SQLite</td>\n",
       "      <td>Elasticsearch;Firebase;IBM DB2;MariaDB;Microso...</td>\n",
       "      <td>NaN</td>\n",
       "      <td>NaN</td>\n",
       "      <td>Express;Flask;jQuery;React.js</td>\n",
       "      <td>Express;Flask;jQuery;React.js</td>\n",
       "      <td>Keras;NumPy;Pandas;TensorFlow;Torch/PyTorch</td>\n",
       "      <td>Keras;NumPy;Pandas;Qt;React Native;TensorFlow;...</td>\n",
       "      <td>Git</td>\n",
       "      <td>Docker;Git;Unity 3D;Unreal Engine</td>\n",
       "      <td>IPython/Jupyter;Notepad++;PyCharm;Sublime Text...</td>\n",
       "      <td>Android Studio;IPython/Jupyter;Vim;Visual Stud...</td>\n",
       "      <td>Windows</td>\n",
       "      <td>Visit Stack Overflow;Go for a walk or other ph...</td>\n",
       "      <td>Stack Overflow;Stack Exchange</td>\n",
       "      <td>Multiple times per day</td>\n",
       "      <td>Yes</td>\n",
       "      <td>I have never participated in Q&amp;A on Stack Over...</td>\n",
       "      <td>Yes, somewhat</td>\n",
       "      <td>No</td>\n",
       "      <td>18-24 years old</td>\n",
       "      <td>Prefer not to say</td>\n",
       "      <td>No</td>\n",
       "      <td>Straight / Heterosexual</td>\n",
       "      <td>Prefer not to say</td>\n",
       "      <td>None of the above</td>\n",
       "      <td>I have a concentration and/or memory disorder ...</td>\n",
       "      <td>Too long</td>\n",
       "      <td>Neither easy nor difficult</td>\n",
       "      <td>NaN</td>\n",
       "    </tr>\n",
       "  </tbody>\n",
       "</table>\n",
       "</div>"
      ],
      "text/plain": [
       "   ResponseId                                         MainBranch  \\\n",
       "0           1                     I am a developer by profession   \n",
       "1           2             I am a student who is learning to code   \n",
       "2           3  I am not primarily a developer, but I write co...   \n",
       "3           4                     I am a developer by profession   \n",
       "4           5                     I am a developer by profession   \n",
       "5           6             I am a student who is learning to code   \n",
       "\n",
       "                                          Employment  \\\n",
       "0  Independent contractor, freelancer, or self-em...   \n",
       "1                                 Student, full-time   \n",
       "2                                 Student, full-time   \n",
       "3                                 Employed full-time   \n",
       "4  Independent contractor, freelancer, or self-em...   \n",
       "5                                 Student, part-time   \n",
       "\n",
       "                                             Country US_State UK_Country  \\\n",
       "0                                           Slovakia      NaN        NaN   \n",
       "1                                        Netherlands      NaN        NaN   \n",
       "2                                 Russian Federation      NaN        NaN   \n",
       "3                                            Austria      NaN        NaN   \n",
       "4  United Kingdom of Great Britain and Northern I...      NaN    England   \n",
       "5                           United States of America  Georgia        NaN   \n",
       "\n",
       "                                             EdLevel     Age1stCode  \\\n",
       "0  Secondary school (e.g. American high school, G...  18 - 24 years   \n",
       "1       Bachelor’s degree (B.A., B.S., B.Eng., etc.)  11 - 17 years   \n",
       "2       Bachelor’s degree (B.A., B.S., B.Eng., etc.)  11 - 17 years   \n",
       "3    Master’s degree (M.A., M.S., M.Eng., MBA, etc.)  11 - 17 years   \n",
       "4    Master’s degree (M.A., M.S., M.Eng., MBA, etc.)   5 - 10 years   \n",
       "5       Bachelor’s degree (B.A., B.S., B.Eng., etc.)  11 - 17 years   \n",
       "\n",
       "                                           LearnCode YearsCode YearsCodePro  \\\n",
       "0  Coding Bootcamp;Other online resources (ex: vi...       NaN          NaN   \n",
       "1  Other online resources (ex: videos, blogs, etc...         7          NaN   \n",
       "2  Other online resources (ex: videos, blogs, etc...       NaN          NaN   \n",
       "3                                                NaN       NaN          NaN   \n",
       "4                            Friend or family member        17           10   \n",
       "5  Other online resources (ex: videos, blogs, etc...       NaN          NaN   \n",
       "\n",
       "                                             DevType  \\\n",
       "0                                  Developer, mobile   \n",
       "1                                                NaN   \n",
       "2                                                NaN   \n",
       "3                               Developer, front-end   \n",
       "4  Developer, desktop or enterprise applications;...   \n",
       "5                                                NaN   \n",
       "\n",
       "                                             OrgSize             Currency  \\\n",
       "0                                 20 to 99 employees    EUR European Euro   \n",
       "1                                                NaN                  NaN   \n",
       "2                                                NaN                  NaN   \n",
       "3                               100 to 499 employees    EUR European Euro   \n",
       "4  Just me - I am a freelancer, sole proprietor, ...  GBP\\tPound sterling   \n",
       "5                                                NaN                  NaN   \n",
       "\n",
       "                  CompTotal CompFreq  \\\n",
       "0 4800.00000000000000000000  Monthly   \n",
       "1                       NaN      NaN   \n",
       "2                       NaN      NaN   \n",
       "3                       NaN  Monthly   \n",
       "4                       NaN      NaN   \n",
       "5                       NaN      NaN   \n",
       "\n",
       "                              LanguageHaveWorkedWith  \\\n",
       "0      C++;HTML/CSS;JavaScript;Objective-C;PHP;Swift   \n",
       "1                                  JavaScript;Python   \n",
       "2                           Assembly;C;Python;R;Rust   \n",
       "3                              JavaScript;TypeScript   \n",
       "4                     Bash/Shell;HTML/CSS;Python;SQL   \n",
       "5  C;C#;C++;HTML/CSS;Java;JavaScript;Node.js;Powe...   \n",
       "\n",
       "                              LanguageWantToWorkWith  \\\n",
       "0                                              Swift   \n",
       "1                                                NaN   \n",
       "2                                  Julia;Python;Rust   \n",
       "3                              JavaScript;TypeScript   \n",
       "4                     Bash/Shell;HTML/CSS;Python;SQL   \n",
       "5  C#;C++;Go;HTML/CSS;Java;JavaScript;Node.js;Obj...   \n",
       "\n",
       "           DatabaseHaveWorkedWith  \\\n",
       "0               PostgreSQL;SQLite   \n",
       "1                      PostgreSQL   \n",
       "2                          SQLite   \n",
       "3                             NaN   \n",
       "4  Elasticsearch;PostgreSQL;Redis   \n",
       "5         MySQL;PostgreSQL;SQLite   \n",
       "\n",
       "                              DatabaseWantToWorkWith PlatformHaveWorkedWith  \\\n",
       "0                                             SQLite                    NaN   \n",
       "1                                                NaN                    NaN   \n",
       "2                                             SQLite                 Heroku   \n",
       "3                                                NaN                    NaN   \n",
       "4           Cassandra;Elasticsearch;PostgreSQL;Redis                    NaN   \n",
       "5  Elasticsearch;Firebase;IBM DB2;MariaDB;Microso...                    NaN   \n",
       "\n",
       "  PlatformWantToWorkWith         WebframeHaveWorkedWith  \\\n",
       "0                    NaN                Laravel;Symfony   \n",
       "1                    NaN           Angular;Flask;Vue.js   \n",
       "2                    NaN                          Flask   \n",
       "3                    NaN                 Angular;jQuery   \n",
       "4                    NaN                          Flask   \n",
       "5                    NaN  Express;Flask;jQuery;React.js   \n",
       "\n",
       "          WebframeWantToWorkWith                       MiscTechHaveWorkedWith  \\\n",
       "0                            NaN                                          NaN   \n",
       "1                            NaN                                      Cordova   \n",
       "2                          Flask        NumPy;Pandas;TensorFlow;Torch/PyTorch   \n",
       "3                 Angular;jQuery                                          NaN   \n",
       "4                          Flask             Apache Spark;Hadoop;NumPy;Pandas   \n",
       "5  Express;Flask;jQuery;React.js  Keras;NumPy;Pandas;TensorFlow;Torch/PyTorch   \n",
       "\n",
       "                              MiscTechWantToWorkWith  \\\n",
       "0                                                NaN   \n",
       "1                                                NaN   \n",
       "2        Keras;NumPy;Pandas;TensorFlow;Torch/PyTorch   \n",
       "3                                                NaN   \n",
       "4                                Hadoop;NumPy;Pandas   \n",
       "5  Keras;NumPy;Pandas;Qt;React Native;TensorFlow;...   \n",
       "\n",
       "      ToolsTechHaveWorkedWith            ToolsTechWantToWorkWith  \\\n",
       "0                         NaN                                NaN   \n",
       "1             Docker;Git;Yarn                                Git   \n",
       "2                         NaN                                NaN   \n",
       "3                         NaN                                NaN   \n",
       "4  Docker;Git;Kubernetes;Yarn         Docker;Git;Kubernetes;Yarn   \n",
       "5                         Git  Docker;Git;Unity 3D;Unreal Engine   \n",
       "\n",
       "                        NEWCollabToolsHaveWorkedWith  \\\n",
       "0                                     PHPStorm;Xcode   \n",
       "1          Android Studio;IntelliJ;Notepad++;PyCharm   \n",
       "2  IPython/Jupyter;PyCharm;RStudio;Sublime Text;V...   \n",
       "3                                                NaN   \n",
       "4         Atom;IPython/Jupyter;Notepad++;PyCharm;Vim   \n",
       "5  IPython/Jupyter;Notepad++;PyCharm;Sublime Text...   \n",
       "\n",
       "                        NEWCollabToolsWantToWorkWith        OpSys  \\\n",
       "0                                         Atom;Xcode        MacOS   \n",
       "1                                                NaN      Windows   \n",
       "2  IPython/Jupyter;RStudio;Sublime Text;Visual St...        MacOS   \n",
       "3                                                NaN      Windows   \n",
       "4  Atom;IPython/Jupyter;Notepad++;PyCharm;Vim;Vis...  Linux-based   \n",
       "5  Android Studio;IPython/Jupyter;Vim;Visual Stud...      Windows   \n",
       "\n",
       "                                            NEWStuck  \\\n",
       "0  Call a coworker or friend;Visit Stack Overflow...   \n",
       "1                     Visit Stack Overflow;Google it   \n",
       "2  Visit Stack Overflow;Google it;Watch help / tu...   \n",
       "3  Call a coworker or friend;Visit Stack Overflow...   \n",
       "4  Visit Stack Overflow;Go for a walk or other ph...   \n",
       "5  Visit Stack Overflow;Go for a walk or other ph...   \n",
       "\n",
       "                      NEWSOSites             SOVisitFreq SOAccount  \\\n",
       "0                 Stack Overflow  Multiple times per day       Yes   \n",
       "1                 Stack Overflow   Daily or almost daily       Yes   \n",
       "2  Stack Overflow;Stack Exchange  Multiple times per day       Yes   \n",
       "3                 Stack Overflow   Daily or almost daily       Yes   \n",
       "4  Stack Overflow;Stack Exchange   Daily or almost daily       Yes   \n",
       "5  Stack Overflow;Stack Exchange  Multiple times per day       Yes   \n",
       "\n",
       "                                          SOPartFreq           SOComm  \\\n",
       "0                    A few times per month or weekly  Yes, definitely   \n",
       "1                              Daily or almost daily  Yes, definitely   \n",
       "2                             Multiple times per day  Yes, definitely   \n",
       "3                              Daily or almost daily          Neutral   \n",
       "4                               A few times per week    Yes, somewhat   \n",
       "5  I have never participated in Q&A on Stack Over...    Yes, somewhat   \n",
       "\n",
       "  NEWOtherComms              Age             Gender Trans  \\\n",
       "0            No  25-34 years old                Man    No   \n",
       "1            No  18-24 years old                Man    No   \n",
       "2           Yes  18-24 years old                Man    No   \n",
       "3            No  35-44 years old                Man    No   \n",
       "4            No  25-34 years old                Man    No   \n",
       "5            No  18-24 years old  Prefer not to say    No   \n",
       "\n",
       "                 Sexuality                     Ethnicity  \\\n",
       "0  Straight / Heterosexual  White or of European descent   \n",
       "1  Straight / Heterosexual  White or of European descent   \n",
       "2        Prefer not to say             Prefer not to say   \n",
       "3  Straight / Heterosexual  White or of European descent   \n",
       "4                      NaN  White or of European descent   \n",
       "5  Straight / Heterosexual             Prefer not to say   \n",
       "\n",
       "                 Accessibility  \\\n",
       "0            None of the above   \n",
       "1            None of the above   \n",
       "2            None of the above   \n",
       "3  I am deaf / hard of hearing   \n",
       "4            None of the above   \n",
       "5            None of the above   \n",
       "\n",
       "                                        MentalHealth           SurveyLength  \\\n",
       "0                                  None of the above  Appropriate in length   \n",
       "1                                  None of the above  Appropriate in length   \n",
       "2                                  None of the above  Appropriate in length   \n",
       "3                                                NaN  Appropriate in length   \n",
       "4                                                NaN  Appropriate in length   \n",
       "5  I have a concentration and/or memory disorder ...               Too long   \n",
       "\n",
       "                   SurveyEase        ConvertedCompYearly  \n",
       "0                        Easy 62268.00000000000000000000  \n",
       "1                        Easy                        NaN  \n",
       "2                        Easy                        NaN  \n",
       "3  Neither easy nor difficult                        NaN  \n",
       "4                        Easy                        NaN  \n",
       "5  Neither easy nor difficult                        NaN  "
      ]
     },
     "execution_count": 121,
     "metadata": {},
     "output_type": "execute_result"
    }
   ],
   "source": [
    "df.head(6)"
   ]
  },
  {
   "cell_type": "code",
   "execution_count": 122,
   "id": "1fb7cc00",
   "metadata": {},
   "outputs": [
    {
     "name": "stdout",
     "output_type": "stream",
     "text": [
      "<class 'pandas.core.frame.DataFrame'>\n",
      "RangeIndex: 83439 entries, 0 to 83438\n",
      "Data columns (total 48 columns):\n",
      " #   Column                        Non-Null Count  Dtype  \n",
      "---  ------                        --------------  -----  \n",
      " 0   ResponseId                    83439 non-null  int64  \n",
      " 1   MainBranch                    83439 non-null  object \n",
      " 2   Employment                    83323 non-null  object \n",
      " 3   Country                       83439 non-null  object \n",
      " 4   US_State                      14920 non-null  object \n",
      " 5   UK_Country                    4418 non-null   object \n",
      " 6   EdLevel                       83126 non-null  object \n",
      " 7   Age1stCode                    83243 non-null  object \n",
      " 8   LearnCode                     82963 non-null  object \n",
      " 9   YearsCode                     81641 non-null  object \n",
      " 10  YearsCodePro                  61216 non-null  object \n",
      " 11  DevType                       66484 non-null  object \n",
      " 12  OrgSize                       60726 non-null  object \n",
      " 13  Currency                      61080 non-null  object \n",
      " 14  CompTotal                     47183 non-null  float64\n",
      " 15  CompFreq                      52150 non-null  object \n",
      " 16  LanguageHaveWorkedWith        82357 non-null  object \n",
      " 17  LanguageWantToWorkWith        76821 non-null  object \n",
      " 18  DatabaseHaveWorkedWith        69546 non-null  object \n",
      " 19  DatabaseWantToWorkWith        58299 non-null  object \n",
      " 20  PlatformHaveWorkedWith        52135 non-null  object \n",
      " 21  PlatformWantToWorkWith        41619 non-null  object \n",
      " 22  WebframeHaveWorkedWith        61707 non-null  object \n",
      " 23  WebframeWantToWorkWith        52095 non-null  object \n",
      " 24  MiscTechHaveWorkedWith        47055 non-null  object \n",
      " 25  MiscTechWantToWorkWith        38021 non-null  object \n",
      " 26  ToolsTechHaveWorkedWith       72537 non-null  object \n",
      " 27  ToolsTechWantToWorkWith       65480 non-null  object \n",
      " 28  NEWCollabToolsHaveWorkedWith  81234 non-null  object \n",
      " 29  NEWCollabToolsWantToWorkWith  73022 non-null  object \n",
      " 30  OpSys                         83294 non-null  object \n",
      " 31  NEWStuck                      83052 non-null  object \n",
      " 32  NEWSOSites                    83171 non-null  object \n",
      " 33  SOVisitFreq                   82413 non-null  object \n",
      " 34  SOAccount                     82525 non-null  object \n",
      " 35  SOPartFreq                    67553 non-null  object \n",
      " 36  SOComm                        82319 non-null  object \n",
      " 37  NEWOtherComms                 82828 non-null  object \n",
      " 38  Age                           82407 non-null  object \n",
      " 39  Gender                        82286 non-null  object \n",
      " 40  Trans                         80678 non-null  object \n",
      " 41  Sexuality                     73366 non-null  object \n",
      " 42  Ethnicity                     79464 non-null  object \n",
      " 43  Accessibility                 77603 non-null  object \n",
      " 44  MentalHealth                  76920 non-null  object \n",
      " 45  SurveyLength                  81711 non-null  object \n",
      " 46  SurveyEase                    81948 non-null  object \n",
      " 47  ConvertedCompYearly           46844 non-null  float64\n",
      "dtypes: float64(2), int64(1), object(45)\n",
      "memory usage: 30.6+ MB\n"
     ]
    }
   ],
   "source": [
    "df.info()"
   ]
  },
  {
   "cell_type": "code",
   "execution_count": 123,
   "id": "8facaa05",
   "metadata": {},
   "outputs": [
    {
     "data": {
      "text/plain": [
       "ResponseId                          0\n",
       "MainBranch                          0\n",
       "Employment                        116\n",
       "Country                             0\n",
       "US_State                        68519\n",
       "UK_Country                      79021\n",
       "EdLevel                           313\n",
       "Age1stCode                        196\n",
       "LearnCode                         476\n",
       "YearsCode                        1798\n",
       "YearsCodePro                    22223\n",
       "DevType                         16955\n",
       "OrgSize                         22713\n",
       "Currency                        22359\n",
       "CompTotal                       36256\n",
       "CompFreq                        31289\n",
       "LanguageHaveWorkedWith           1082\n",
       "LanguageWantToWorkWith           6618\n",
       "DatabaseHaveWorkedWith          13893\n",
       "DatabaseWantToWorkWith          25140\n",
       "PlatformHaveWorkedWith          31304\n",
       "PlatformWantToWorkWith          41820\n",
       "WebframeHaveWorkedWith          21732\n",
       "WebframeWantToWorkWith          31344\n",
       "MiscTechHaveWorkedWith          36384\n",
       "MiscTechWantToWorkWith          45418\n",
       "ToolsTechHaveWorkedWith         10902\n",
       "ToolsTechWantToWorkWith         17959\n",
       "NEWCollabToolsHaveWorkedWith     2205\n",
       "NEWCollabToolsWantToWorkWith    10417\n",
       "OpSys                             145\n",
       "NEWStuck                          387\n",
       "NEWSOSites                        268\n",
       "SOVisitFreq                      1026\n",
       "SOAccount                         914\n",
       "SOPartFreq                      15886\n",
       "SOComm                           1120\n",
       "NEWOtherComms                     611\n",
       "Age                              1032\n",
       "Gender                           1153\n",
       "Trans                            2761\n",
       "Sexuality                       10073\n",
       "Ethnicity                        3975\n",
       "Accessibility                    5836\n",
       "MentalHealth                     6519\n",
       "SurveyLength                     1728\n",
       "SurveyEase                       1491\n",
       "ConvertedCompYearly             36595\n",
       "dtype: int64"
      ]
     },
     "execution_count": 123,
     "metadata": {},
     "output_type": "execute_result"
    }
   ],
   "source": [
    "df.isna().sum()"
   ]
  },
  {
   "cell_type": "code",
   "execution_count": 124,
   "id": "30bcfd8e",
   "metadata": {},
   "outputs": [
    {
     "data": {
      "text/plain": [
       "Man                                                                                   74817\n",
       "Woman                                                                                  4120\n",
       "Prefer not to say                                                                      1442\n",
       "Non-binary, genderqueer, or gender non-conforming                                       690\n",
       "Or, in your own words:                                                                  413\n",
       "Man;Or, in your own words:                                                              268\n",
       "Man;Non-binary, genderqueer, or gender non-conforming                                   252\n",
       "Woman;Non-binary, genderqueer, or gender non-conforming                                 147\n",
       "Man;Woman                                                                                41\n",
       "Non-binary, genderqueer, or gender non-conforming;Or, in your own words:                 21\n",
       "Man;Woman;Non-binary, genderqueer, or gender non-conforming                              21\n",
       "Man;Woman;Non-binary, genderqueer, or gender non-conforming;Or, in your own words:       17\n",
       "Woman;Or, in your own words:                                                             16\n",
       "Man;Non-binary, genderqueer, or gender non-conforming;Or, in your own words:             11\n",
       "Woman;Non-binary, genderqueer, or gender non-conforming;Or, in your own words:            9\n",
       "Man;Woman;Or, in your own words:                                                          1\n",
       "Name: Gender, dtype: int64"
      ]
     },
     "execution_count": 124,
     "metadata": {},
     "output_type": "execute_result"
    }
   ],
   "source": [
    "df['Gender'].value_counts()"
   ]
  },
  {
   "cell_type": "code",
   "execution_count": 125,
   "id": "4b4e59cf",
   "metadata": {},
   "outputs": [
    {
     "data": {
      "text/plain": [
       "array(['EUR European Euro', nan, 'GBP\\tPound sterling',\n",
       "       'INR\\tIndian rupee', 'SEK\\tSwedish krona', 'TRY\\tTurkish lira',\n",
       "       'CAD\\tCanadian dollar', 'SGD\\tSingapore dollar',\n",
       "       'CHF\\tSwiss franc', 'RUB\\tRussian ruble',\n",
       "       'ILS\\tIsraeli new shekel', 'USD\\tUnited States dollar',\n",
       "       'BRL\\tBrazilian real', 'BGN\\tBulgarian lev',\n",
       "       'AED United Arab Emirates dirham', 'PLN\\tPolish zloty',\n",
       "       'UZS\\tUzbekistani som', 'HUF\\tHungarian forint',\n",
       "       'PKR\\tPakistani rupee', 'ZMW Zambian kwacha',\n",
       "       'NGN\\tNigerian naira', 'ALL\\tAlbanian lek',\n",
       "       'BDT\\tBangladeshi taka', 'IRR\\tIranian rial', 'RON\\tRomanian leu',\n",
       "       'HRK\\tCroatian kuna', 'GEL\\tGeorgian lari', 'DKK\\tDanish krone',\n",
       "       'AMD\\tArmenian dram', 'LBP\\tLebanese pound', 'BHD\\tBahraini dinar',\n",
       "       'EGP\\tEgyptian pound', 'AUD\\tAustralian dollar',\n",
       "       'CLP\\tChilean peso', 'IDR\\tIndonesian rupiah',\n",
       "       'RSD\\tSerbian dinar', 'KRW\\tSouth Korean won',\n",
       "       'HKD\\tHong Kong dollar', 'NPR\\tNepalese rupee',\n",
       "       'UAH\\tUkrainian hryvnia', 'JPY\\tJapanese yen',\n",
       "       'TZS\\tTanzanian shilling', 'PEN\\tPeruvian sol',\n",
       "       'BOB\\tBolivian boliviano', 'CZK\\tCzech koruna',\n",
       "       'ZAR\\tSouth African rand', 'ARS\\tArgentine peso',\n",
       "       'NOK\\tNorwegian krone', 'VND\\tVietnamese dong',\n",
       "       'MYR\\tMalaysian ringgit', 'MGA\\tMalagasy ariary',\n",
       "       'KES\\tKenyan shilling', 'LKR\\tSri Lankan rupee',\n",
       "       'TND\\tTunisian dinar', 'BYN\\tBelarusian ruble',\n",
       "       'COP\\tColombian peso', 'MKD\\tMacedonian denar',\n",
       "       'BWP\\tBotswana pula', 'DZD\\tAlgerian dinar',\n",
       "       'BAM\\tBosnia and Herzegovina convertible mark',\n",
       "       'CNY\\tChinese Yuan Renminbi', 'MXN\\tMexican peso',\n",
       "       'MAD\\tMoroccan dirham', 'JOD\\tJordanian dinar',\n",
       "       'DOP\\tDominican peso', 'THB\\tThai baht', 'ETB\\tEthiopian birr',\n",
       "       'XOF\\tWest African CFA franc', 'PYG\\tParaguayan guarani',\n",
       "       'ISK\\tIcelandic krona', 'HTG\\tHaitian gourde',\n",
       "       'TWD\\tNew Taiwan dollar', 'GTQ\\tGuatemalan quetzal',\n",
       "       'XAF\\tCentral African CFA franc', 'KZT\\tKazakhstani tenge',\n",
       "       'LYD\\tLibyan dinar', 'CUP\\tCuban peso', 'SYP\\tSyrian pound',\n",
       "       'PHP\\tPhilippine peso', 'XCD\\tEast Caribbean dollar',\n",
       "       'LAK\\tLao kip', 'YER\\tYemeni rial', 'TOP\\tTongan pa’anga',\n",
       "       'IQD\\tIraqi dinar', 'CRC\\tCosta Rican colon',\n",
       "       'MRU\\tMauritanian ouguiya', 'AZN\\tAzerbaijan manat',\n",
       "       'SAR\\tSaudi Arabian riyal', 'AOA\\tAngolan kwanza',\n",
       "       'SDG\\tSudanese pound', 'GYD\\tGuyanese dollar', 'XPF\\tCFP franc',\n",
       "       'NZD\\tNew Zealand dollar', 'UYU\\tUruguayan peso',\n",
       "       'HNL\\tHonduran lempira', 'NIO\\tNicaraguan cordoba',\n",
       "       'MZN\\tMozambican metical', 'TTD\\tTrinidad and Tobago dollar',\n",
       "       'GHS\\tGhanaian cedi', 'BBD\\tBarbadian dollar',\n",
       "       'FJD\\tFijian dollar', 'VES\\tVenezuelan bolivar',\n",
       "       'UGX\\tUgandan shilling', 'KWD\\tKuwaiti dinar',\n",
       "       'GMD\\tGambian dalasi', 'LSL\\tLesotho loti', 'MMK\\tMyanmar kyat',\n",
       "       'KGS\\tKyrgyzstani som', 'AFN\\tAfghan afghani',\n",
       "       'MUR\\tMauritian rupee', 'SZL\\tSwazi lilangeni',\n",
       "       'RWF\\tRwandan franc', 'MDL\\tMoldovan leu', 'TMT\\tTurkmen manat',\n",
       "       'KYD\\tCayman Islands dollar', 'KHR\\tCambodian riel',\n",
       "       'IMP\\tManx pound', 'QAR\\tQatari riyal', 'BZD\\tBelize dollar',\n",
       "       'ANG Netherlands Antillean guilder', 'MNT\\tMongolian tugrik',\n",
       "       'TJS\\tTajikistani somoni', 'OMR\\tOmani rial', 'BIF\\tBurundi franc',\n",
       "       'JMD\\tJamaican dollar', 'NAD\\tNamibian dollar',\n",
       "       'GNF\\tGuinean franc', 'none\\tCook Islands dollar',\n",
       "       'CDF\\tCongolese franc', 'PGK\\tPapua New Guinean kina',\n",
       "       'LRD\\tLiberian dollar', 'MVR\\tMaldivian rufiyaa',\n",
       "       'GIP\\tGibraltar pound', 'BSD\\tBahamian dollar',\n",
       "       'AWG\\tAruban florin', 'DJF\\tDjiboutian franc',\n",
       "       'SHP\\tSaint Helena pound', 'MWK\\tMalawian kwacha',\n",
       "       'BTN\\tBhutanese ngultrum', 'SRD\\tSurinamese dollar',\n",
       "       'VUV\\tVanuatu vatu', 'CVE\\tCape Verdean escudo',\n",
       "       'BMD\\tBermudian dollar', 'GGP\\tGuernsey Pound',\n",
       "       'KPW\\tNorth Korean won', 'XDR\\tSDR (Special Drawing Right)',\n",
       "       'ERN\\tEritrean nakfa'], dtype=object)"
      ]
     },
     "execution_count": 125,
     "metadata": {},
     "output_type": "execute_result"
    }
   ],
   "source": [
    "df['Currency'].unique()"
   ]
  },
  {
   "cell_type": "code",
   "execution_count": 126,
   "id": "e8861183",
   "metadata": {},
   "outputs": [
    {
     "data": {
      "text/plain": [
       "Windows                              37758\n",
       "Linux-based                          21088\n",
       "MacOS                                20984\n",
       "Windows Subsystem for Linux (WSL)     2743\n",
       "Other (please specify):                575\n",
       "BSD                                    146\n",
       "Name: OpSys, dtype: int64"
      ]
     },
     "execution_count": 126,
     "metadata": {},
     "output_type": "execute_result"
    }
   ],
   "source": [
    "df['OpSys'].value_counts()"
   ]
  },
  {
   "cell_type": "code",
   "execution_count": 127,
   "id": "910d6aa5",
   "metadata": {},
   "outputs": [
    {
     "data": {
      "text/plain": [
       "147"
      ]
     },
     "execution_count": 127,
     "metadata": {},
     "output_type": "execute_result"
    }
   ],
   "source": [
    "len(df['Currency'].unique())"
   ]
  },
  {
   "cell_type": "code",
   "execution_count": 128,
   "id": "737136cc",
   "metadata": {},
   "outputs": [
    {
     "data": {
      "text/plain": [
       "181"
      ]
     },
     "execution_count": 128,
     "metadata": {},
     "output_type": "execute_result"
    }
   ],
   "source": [
    "len(df['Country'].unique())"
   ]
  },
  {
   "cell_type": "code",
   "execution_count": 129,
   "id": "689f2f3f",
   "metadata": {},
   "outputs": [
    {
     "data": {
      "text/plain": [
       "array(['EGP\\tEgyptian pound', nan, 'USD\\tUnited States dollar',\n",
       "       'JOD\\tJordanian dinar', 'EUR European Euro',\n",
       "       'SAR\\tSaudi Arabian riyal', 'AED United Arab Emirates dirham'],\n",
       "      dtype=object)"
      ]
     },
     "execution_count": 129,
     "metadata": {},
     "output_type": "execute_result"
    }
   ],
   "source": [
    "df.loc[df['Country'] == 'Egypt','Currency'].unique()"
   ]
  },
  {
   "cell_type": "markdown",
   "id": "98b3debb",
   "metadata": {},
   "source": [
    "## Droping columns that will not be used"
   ]
  },
  {
   "cell_type": "code",
   "execution_count": 130,
   "id": "d16cda76",
   "metadata": {},
   "outputs": [],
   "source": [
    "df.drop(columns=['ResponseId','US_State','UK_Country','Age1stCode','YearsCodePro','OrgSize','CompFreq','CompTotal','PlatformWantToWorkWith'\n",
    "                ,'WebframeWantToWorkWith','MiscTechWantToWorkWith','ToolsTechWantToWorkWith','NEWCollabToolsWantToWorkWith','SOAccount'\n",
    "                ,'SOPartFreq','SOComm','NEWOtherComms','Trans','Ethnicity','Accessibility','MentalHealth','SurveyLength','SurveyEase','DatabaseWantToWorkWith','NEWSOSites','LanguageWantToWorkWith'\n",
    "                ,'Sexuality','DatabaseHaveWorkedWith'],axis = 1,inplace=True)"
   ]
  },
  {
   "cell_type": "markdown",
   "id": "a48c5e56",
   "metadata": {},
   "source": [
    "## Cleaning Data :"
   ]
  },
  {
   "cell_type": "code",
   "execution_count": 131,
   "id": "39d03761",
   "metadata": {},
   "outputs": [],
   "source": [
    "df['Gender'].fillna(value = df['Gender'].mode()[0],inplace = True)"
   ]
  },
  {
   "cell_type": "code",
   "execution_count": 132,
   "id": "ca2b6df6",
   "metadata": {},
   "outputs": [],
   "source": [
    "df['GenderEditted'] = np.where(df['Gender'] == 'Man','Male','Female')"
   ]
  },
  {
   "cell_type": "code",
   "execution_count": 133,
   "id": "99060d88",
   "metadata": {},
   "outputs": [
    {
     "data": {
      "text/plain": [
       "Male      75970\n",
       "Female     7469\n",
       "Name: GenderEditted, dtype: int64"
      ]
     },
     "execution_count": 133,
     "metadata": {},
     "output_type": "execute_result"
    }
   ],
   "source": [
    "df['GenderEditted'].value_counts()"
   ]
  },
  {
   "cell_type": "code",
   "execution_count": 134,
   "id": "c51bda77",
   "metadata": {},
   "outputs": [],
   "source": [
    "df['LanguageHaveWorkedWith'].fillna(value = df['LanguageHaveWorkedWith'].mode()[0],inplace = True)"
   ]
  },
  {
   "cell_type": "code",
   "execution_count": 135,
   "id": "549847b5",
   "metadata": {},
   "outputs": [],
   "source": [
    "df['DevType'].fillna(value = df['DevType'].mode()[0],inplace = True)"
   ]
  },
  {
   "cell_type": "code",
   "execution_count": 136,
   "id": "db71d408",
   "metadata": {},
   "outputs": [],
   "source": [
    "df['Age'].fillna(value = df['Age'].mode()[0],inplace= True)"
   ]
  },
  {
   "cell_type": "code",
   "execution_count": 137,
   "id": "c0747a05",
   "metadata": {},
   "outputs": [],
   "source": [
    "df['WebframeHaveWorkedWith'].fillna(value = df['WebframeHaveWorkedWith'].mode()[0],inplace = True)"
   ]
  },
  {
   "cell_type": "code",
   "execution_count": 138,
   "id": "e760e195",
   "metadata": {},
   "outputs": [],
   "source": [
    "df['SOVisitFreq'].fillna(value = df['SOVisitFreq'].mode()[0],inplace = True)"
   ]
  },
  {
   "cell_type": "code",
   "execution_count": 139,
   "id": "8bce3d47",
   "metadata": {},
   "outputs": [],
   "source": [
    "df['NEWStuck'].fillna(value = df['NEWStuck'].mode()[0],inplace = True)"
   ]
  },
  {
   "cell_type": "code",
   "execution_count": 140,
   "id": "f10ea2ac",
   "metadata": {},
   "outputs": [],
   "source": [
    "df['PlatformHaveWorkedWith'].fillna(value = df['PlatformHaveWorkedWith'].mode()[0],inplace = True)"
   ]
  },
  {
   "cell_type": "code",
   "execution_count": 141,
   "id": "5fa6e448",
   "metadata": {},
   "outputs": [],
   "source": [
    "df['OpSys'].fillna(value = df['PlatformHaveWorkedWith'].mode()[0],inplace = True)"
   ]
  },
  {
   "cell_type": "code",
   "execution_count": 142,
   "id": "fa3b1e9b",
   "metadata": {},
   "outputs": [],
   "source": [
    "df['NEWCollabToolsHaveWorkedWith'].fillna(value = df['NEWCollabToolsHaveWorkedWith'].mode()[0],inplace = True)"
   ]
  },
  {
   "cell_type": "code",
   "execution_count": 143,
   "id": "baf6c9bc",
   "metadata": {},
   "outputs": [],
   "source": [
    "df['ToolsTechHaveWorkedWith'].fillna(value = df['ToolsTechHaveWorkedWith'].mode()[0],inplace = True)"
   ]
  },
  {
   "cell_type": "code",
   "execution_count": 144,
   "id": "558693c0",
   "metadata": {},
   "outputs": [],
   "source": [
    "df['MiscTechHaveWorkedWith'].fillna(value = df['MiscTechHaveWorkedWith'].mode()[0],inplace = True)"
   ]
  },
  {
   "cell_type": "code",
   "execution_count": 145,
   "id": "ab63ec0e",
   "metadata": {},
   "outputs": [],
   "source": [
    "df['LearnCode'].fillna(value = df['LearnCode'].mode()[0],inplace = True)"
   ]
  },
  {
   "cell_type": "code",
   "execution_count": 146,
   "id": "a31b9310",
   "metadata": {},
   "outputs": [],
   "source": [
    "df.loc[df['YearsCode'] == \"Less than 1 year\",\"YearsCode\"] = 0\n",
    "df.loc[df['YearsCode'] == \"More than 50 years\",\"YearsCode\"] = 51\n",
    "df['YearsCode']=pd.to_numeric(df['YearsCode'],downcast = 'float')\n",
    "pd.to_numeric(df['YearsCode'],downcast='float',errors= 'coerce')\n",
    "df['YearsCode'].fillna(value = df['YearsCode'].mean(),inplace=True)\n"
   ]
  },
  {
   "cell_type": "code",
   "execution_count": 147,
   "id": "0577d3f2",
   "metadata": {},
   "outputs": [],
   "source": [
    "df['EdLevel'].fillna(value = df['EdLevel'].mode()[0],inplace=True)"
   ]
  },
  {
   "cell_type": "code",
   "execution_count": 148,
   "id": "d2e1fce5",
   "metadata": {},
   "outputs": [
    {
     "data": {
      "text/plain": [
       "25-34 years old       33600\n",
       "18-24 years old       20993\n",
       "35-44 years old       15183\n",
       "45-54 years old        5472\n",
       "Under 18 years old     5376\n",
       "55-64 years old        1819\n",
       "Prefer not to say       575\n",
       "65 years or older       421\n",
       "Name: Age, dtype: int64"
      ]
     },
     "execution_count": 148,
     "metadata": {},
     "output_type": "execute_result"
    }
   ],
   "source": [
    "df['Age'].value_counts()"
   ]
  },
  {
   "cell_type": "code",
   "execution_count": 149,
   "id": "3e3e0759",
   "metadata": {},
   "outputs": [],
   "source": [
    "df.loc[df['Age'] == \"25-34 years old\",\"Age\"] = 30\n",
    "df.loc[df['Age'] == \"18-24 years old\",\"Age\"] = 22\n",
    "df.loc[df['Age'] == \"35-44 years old\",\"Age\"] = 40\n",
    "df.loc[df['Age'] == \"45-54 years old\",\"Age\"] = 50\n",
    "df.loc[df['Age'] == \"Under 18 years old\",\"Age\"] = 17\n",
    "df.loc[df['Age'] == \"55-64 years old\",\"Age\"] = 60\n",
    "df.loc[df['Age'] == \"Prefer not to say\",\"Age\"] = 40\n",
    "df.loc[df['Age'] == \"65 years or older\",\"Age\"] = 40\n"
   ]
  },
  {
   "cell_type": "code",
   "execution_count": 150,
   "id": "b7c518ba",
   "metadata": {},
   "outputs": [
    {
     "data": {
      "text/html": [
       "<div>\n",
       "<style scoped>\n",
       "    .dataframe tbody tr th:only-of-type {\n",
       "        vertical-align: middle;\n",
       "    }\n",
       "\n",
       "    .dataframe tbody tr th {\n",
       "        vertical-align: top;\n",
       "    }\n",
       "\n",
       "    .dataframe thead th {\n",
       "        text-align: right;\n",
       "    }\n",
       "</style>\n",
       "<table border=\"1\" class=\"dataframe\">\n",
       "  <thead>\n",
       "    <tr style=\"text-align: right;\">\n",
       "      <th></th>\n",
       "      <th>MainBranch</th>\n",
       "      <th>Employment</th>\n",
       "      <th>Country</th>\n",
       "      <th>EdLevel</th>\n",
       "      <th>LearnCode</th>\n",
       "      <th>YearsCode</th>\n",
       "      <th>DevType</th>\n",
       "      <th>Currency</th>\n",
       "      <th>LanguageHaveWorkedWith</th>\n",
       "      <th>PlatformHaveWorkedWith</th>\n",
       "      <th>WebframeHaveWorkedWith</th>\n",
       "      <th>MiscTechHaveWorkedWith</th>\n",
       "      <th>ToolsTechHaveWorkedWith</th>\n",
       "      <th>NEWCollabToolsHaveWorkedWith</th>\n",
       "      <th>OpSys</th>\n",
       "      <th>NEWStuck</th>\n",
       "      <th>SOVisitFreq</th>\n",
       "      <th>Age</th>\n",
       "      <th>Gender</th>\n",
       "      <th>ConvertedCompYearly</th>\n",
       "      <th>GenderEditted</th>\n",
       "    </tr>\n",
       "  </thead>\n",
       "  <tbody>\n",
       "    <tr>\n",
       "      <th>0</th>\n",
       "      <td>I am a developer by profession</td>\n",
       "      <td>Independent contractor, freelancer, or self-em...</td>\n",
       "      <td>Slovakia</td>\n",
       "      <td>Secondary school (e.g. American high school, G...</td>\n",
       "      <td>Coding Bootcamp;Other online resources (ex: vi...</td>\n",
       "      <td>12.33820056915283203125</td>\n",
       "      <td>Developer, mobile</td>\n",
       "      <td>EUR European Euro</td>\n",
       "      <td>C++;HTML/CSS;JavaScript;Objective-C;PHP;Swift</td>\n",
       "      <td>AWS</td>\n",
       "      <td>Laravel;Symfony</td>\n",
       "      <td>.NET Framework;.NET Core / .NET 5</td>\n",
       "      <td>Git</td>\n",
       "      <td>PHPStorm;Xcode</td>\n",
       "      <td>MacOS</td>\n",
       "      <td>Call a coworker or friend;Visit Stack Overflow...</td>\n",
       "      <td>Multiple times per day</td>\n",
       "      <td>30</td>\n",
       "      <td>Man</td>\n",
       "      <td>62268.00000000000000000000</td>\n",
       "      <td>Male</td>\n",
       "    </tr>\n",
       "    <tr>\n",
       "      <th>1</th>\n",
       "      <td>I am a student who is learning to code</td>\n",
       "      <td>Student, full-time</td>\n",
       "      <td>Netherlands</td>\n",
       "      <td>Bachelor’s degree (B.A., B.S., B.Eng., etc.)</td>\n",
       "      <td>Other online resources (ex: videos, blogs, etc...</td>\n",
       "      <td>7.00000000000000000000</td>\n",
       "      <td>Developer, full-stack</td>\n",
       "      <td>NaN</td>\n",
       "      <td>JavaScript;Python</td>\n",
       "      <td>AWS</td>\n",
       "      <td>Angular;Flask;Vue.js</td>\n",
       "      <td>Cordova</td>\n",
       "      <td>Docker;Git;Yarn</td>\n",
       "      <td>Android Studio;IntelliJ;Notepad++;PyCharm</td>\n",
       "      <td>Windows</td>\n",
       "      <td>Visit Stack Overflow;Google it</td>\n",
       "      <td>Daily or almost daily</td>\n",
       "      <td>22</td>\n",
       "      <td>Man</td>\n",
       "      <td>NaN</td>\n",
       "      <td>Male</td>\n",
       "    </tr>\n",
       "    <tr>\n",
       "      <th>2</th>\n",
       "      <td>I am not primarily a developer, but I write co...</td>\n",
       "      <td>Student, full-time</td>\n",
       "      <td>Russian Federation</td>\n",
       "      <td>Bachelor’s degree (B.A., B.S., B.Eng., etc.)</td>\n",
       "      <td>Other online resources (ex: videos, blogs, etc...</td>\n",
       "      <td>12.33820056915283203125</td>\n",
       "      <td>Developer, full-stack</td>\n",
       "      <td>NaN</td>\n",
       "      <td>Assembly;C;Python;R;Rust</td>\n",
       "      <td>Heroku</td>\n",
       "      <td>Flask</td>\n",
       "      <td>NumPy;Pandas;TensorFlow;Torch/PyTorch</td>\n",
       "      <td>Git</td>\n",
       "      <td>IPython/Jupyter;PyCharm;RStudio;Sublime Text;V...</td>\n",
       "      <td>MacOS</td>\n",
       "      <td>Visit Stack Overflow;Google it;Watch help / tu...</td>\n",
       "      <td>Multiple times per day</td>\n",
       "      <td>22</td>\n",
       "      <td>Man</td>\n",
       "      <td>NaN</td>\n",
       "      <td>Male</td>\n",
       "    </tr>\n",
       "  </tbody>\n",
       "</table>\n",
       "</div>"
      ],
      "text/plain": [
       "                                          MainBranch  \\\n",
       "0                     I am a developer by profession   \n",
       "1             I am a student who is learning to code   \n",
       "2  I am not primarily a developer, but I write co...   \n",
       "\n",
       "                                          Employment             Country  \\\n",
       "0  Independent contractor, freelancer, or self-em...            Slovakia   \n",
       "1                                 Student, full-time         Netherlands   \n",
       "2                                 Student, full-time  Russian Federation   \n",
       "\n",
       "                                             EdLevel  \\\n",
       "0  Secondary school (e.g. American high school, G...   \n",
       "1       Bachelor’s degree (B.A., B.S., B.Eng., etc.)   \n",
       "2       Bachelor’s degree (B.A., B.S., B.Eng., etc.)   \n",
       "\n",
       "                                           LearnCode               YearsCode  \\\n",
       "0  Coding Bootcamp;Other online resources (ex: vi... 12.33820056915283203125   \n",
       "1  Other online resources (ex: videos, blogs, etc...  7.00000000000000000000   \n",
       "2  Other online resources (ex: videos, blogs, etc... 12.33820056915283203125   \n",
       "\n",
       "                 DevType           Currency  \\\n",
       "0      Developer, mobile  EUR European Euro   \n",
       "1  Developer, full-stack                NaN   \n",
       "2  Developer, full-stack                NaN   \n",
       "\n",
       "                          LanguageHaveWorkedWith PlatformHaveWorkedWith  \\\n",
       "0  C++;HTML/CSS;JavaScript;Objective-C;PHP;Swift                    AWS   \n",
       "1                              JavaScript;Python                    AWS   \n",
       "2                       Assembly;C;Python;R;Rust                 Heroku   \n",
       "\n",
       "  WebframeHaveWorkedWith                 MiscTechHaveWorkedWith  \\\n",
       "0        Laravel;Symfony      .NET Framework;.NET Core / .NET 5   \n",
       "1   Angular;Flask;Vue.js                                Cordova   \n",
       "2                  Flask  NumPy;Pandas;TensorFlow;Torch/PyTorch   \n",
       "\n",
       "  ToolsTechHaveWorkedWith                       NEWCollabToolsHaveWorkedWith  \\\n",
       "0                     Git                                     PHPStorm;Xcode   \n",
       "1         Docker;Git;Yarn          Android Studio;IntelliJ;Notepad++;PyCharm   \n",
       "2                     Git  IPython/Jupyter;PyCharm;RStudio;Sublime Text;V...   \n",
       "\n",
       "     OpSys                                           NEWStuck  \\\n",
       "0    MacOS  Call a coworker or friend;Visit Stack Overflow...   \n",
       "1  Windows                     Visit Stack Overflow;Google it   \n",
       "2    MacOS  Visit Stack Overflow;Google it;Watch help / tu...   \n",
       "\n",
       "              SOVisitFreq  Age Gender        ConvertedCompYearly GenderEditted  \n",
       "0  Multiple times per day   30    Man 62268.00000000000000000000          Male  \n",
       "1   Daily or almost daily   22    Man                        NaN          Male  \n",
       "2  Multiple times per day   22    Man                        NaN          Male  "
      ]
     },
     "execution_count": 150,
     "metadata": {},
     "output_type": "execute_result"
    }
   ],
   "source": [
    "df['Age'] = pd.to_numeric(df['Age'],downcast='integer')\n",
    "df.head(3)"
   ]
  },
  {
   "cell_type": "markdown",
   "id": "075f0b01",
   "metadata": {},
   "source": [
    "## The first problem is that we have 46000 NaN values in the ConvertedCompYearly Column\n",
    "\n",
    "## and so we cant fill them with just the mean of this column as we have different countries \n",
    "\n",
    "## with different currencies and of course different Salaries , so we have to unify the currency \n",
    "\n",
    "## to be USD for example and feature a new column (ConvertedCompYearlyEditted) where all  \n",
    " \n",
    "## values in ConvertedCompYearly are converted to USD values , then Filling the NaN values    \n",
    "## with the mean Annual Salary for every country to get more accurate results and further \n",
    "\n",
    "## improvments are to be taken in consideration in a while"
   ]
  },
  {
   "cell_type": "markdown",
   "id": "038d190e",
   "metadata": {},
   "source": [
    "### The first step is to get the rows which have NaN in 'Currency' Column and fill these values with the country's    currency."
   ]
  },
  {
   "cell_type": "code",
   "execution_count": 151,
   "id": "d567ce86",
   "metadata": {},
   "outputs": [],
   "source": [
    "CountriesNaCurrency = df.loc[df['Currency'].isna(),'Country'].unique()"
   ]
  },
  {
   "cell_type": "markdown",
   "id": "56357462",
   "metadata": {},
   "source": [
    "### Second step is mapping each country with its currency"
   ]
  },
  {
   "cell_type": "code",
   "execution_count": 152,
   "id": "6e503c82",
   "metadata": {},
   "outputs": [],
   "source": [
    "CountryCurrencyMap = {'Slovakia':'EUR European Euro', 'Netherlands':'EUR European Euro', 'Russian Federation':'RUB\\tRussian ruble', \n",
    "                      'Austria':'EUR European Euro',\n",
    "       'United Kingdom of Great Britain and Northern Ireland':'GBP\\tPound sterling',\n",
    "       'United States of America':'USD\\tUnited States dollar', 'Malaysia':'MYR\\tMalaysian ringgit', 'India':'INR\\tIndian rupee',\n",
    "                      'Sweden':'SEK\\tSwedish krona', 'Spain':'EUR European Euro',\n",
    "       'Germany':'EUR European Euro', 'Peru':'PEN\\tPeruvian sol', 'Turkey':'TRY\\tTurkish lira', 'Canada':'CAD\\tCanadian dollar',\n",
    "                      'Singapore':'SGD\\tSingapore dollar', 'Brazil':'BRL\\tBrazilian real',\n",
    "       'France':'EUR European Euro', 'Switzerland':'CHF\\tSwiss franc', 'Malawi':'MWK\\tMalawian kwacha'\n",
    "                      , 'Israel':'ILS\\tIsraeli new shekel', 'Poland':'PLN\\tPolish zloty', 'Ukraine':'UAH\\tUkrainian hryvnia',\n",
    "       'Viet Nam':'VND\\tVietnamese dong', 'Portugal':'EUR European Euro', 'Italy':'EUR European Euro', \n",
    "                      'Bulgaria':'BGN\\tBulgarian lev', 'Greece':'EUR European Euro',\n",
    "       'Iran, Islamic Republic of...':'IRR\\tIranian rial', 'Ireland':'EUR European Euro', 'Georgia':'GEL\\tGeorgian lari', \n",
    "                      'Uzbekistan':'UZS\\tUzbekistani som',\n",
    "       'Hungary':'HUF\\tHungarian forint', 'Belgium':'EUR European Euro', 'Pakistan':'PKR\\tPakistani rupee', 'Nigeria':'NGN\\tNigerian naira',\n",
    "                      'Albania':'ALL\\tAlbanian lek',\n",
    "       'Bangladesh':'BDT\\tBangladeshi taka', 'Romania':'RON\\tRomanian leu', 'Sri Lanka':'LKR\\tSri Lankan rupee', \n",
    "                      'Lithuania':'EUR European Euro', 'Slovenia':'EUR European Euro',\n",
    "       'Croatia':'HRK\\tCroatian kuna', 'Czech Republic':'CZK\\tCzech koruna', 'Denmark':'DKK\\tDanish krone',\n",
    "                      'Armenia':'AMD\\tArmenian dram', 'Lebanon':'LBP\\tLebanese pound',\n",
    "       'Bahrain':'BHD\\tBahraini dinar', 'Egypt':'EGP\\tEgyptian pound', 'Nepal':'NPR\\tNepalese rupee', 'Colombia':'COP\\tColombian peso',\n",
    "                      'Indonesia':'IDR\\tIndonesian rupiah', 'Australia':'AUD\\tAustralian dollar',\n",
    "       'Turkmenistan':'TMT\\tTurkmen manat', 'Morocco':'MAD\\tMoroccan dirham', 'Chile':'CLP\\tChilean peso', 'Serbia':'RSD\\tSerbian dinar'\n",
    "                      , 'New Zealand':'NZD\\tNew Zealand dollar',\n",
    "       'Estonia':'EUR European Euro', 'Tunisia':'TND\\tTunisian dinar', 'Finland':'EUR European Euro', 'Hong Kong (S.A.R.)':'HKD\\tHong Kong dollar'\n",
    "                      ,\n",
    "       'United Arab Emirates':'AED United Arab Emirates dirham', 'Argentina':'ARS\\tArgentine peso', 'Azerbaijan':'AZN\\tAzerbaijan manat',\n",
    "                      'Philippines':'PHP\\tPhilippine peso',\n",
    "       'Costa Rica':'USD\\tUnited States dollar', 'South Africa':'ZAR\\tSouth African rand', 'Kosovo':'EUR European Euro', 'Japan':'JPY\\tJapanese yen',\n",
    "       'United Republic of Tanzania':'TZS\\tTanzanian shilling', 'Bolivia':'BOB\\tBolivian boliviano', 'Bosnia and Herzegovina':'BAM\\tBosnia and Herzegovina convertible mark',\n",
    "       'Uruguay':'UYU\\tUruguayan peso', 'South Korea':'KRW\\tSouth Korean won', 'China':'CNY\\tChinese Yuan Renminbi', \n",
    "                      'Norway':'NOK\\tNorwegian krone', 'Belarus':'BYN\\tBelarusian ruble',\n",
    "       'Luxembourg':'EUR European Euro', 'Malta':'EUR European Euro', 'Ethiopia':'ETB\\tEthiopian birr', 'Madagascar':'MGA\\tMalagasy ariary',\n",
    "                      'Kenya':'KES\\tKenyan shilling',\n",
    "       'The former Yugoslav Republic of Macedonia':'MKD\\tMacedonian denar', 'Botswana':'BWP\\tBotswana pula', 'Algeria':'DZD\\tAlgerian dinar',\n",
    "       'Senegal':'XOF\\tWest African CFA franc', 'Mexico':'MXN\\tMexican peso', 'Cyprus':'EUR European Euro',\n",
    "       'Venezuela, Bolivarian Republic of...':'USD\\tUnited States dollar', 'Cameroon':'XAF\\tCentral African CFA franc', 'Jordan':'JOD\\tJordanian dinar',\n",
    "       'Dominican Republic':'DOP\\tDominican peso', 'Ecuador':'USD\\tUnited States dollar', 'Syrian Arab Republic':'SYP\\tSyrian pound', \n",
    "                      'Zambia':'ZMW Zambian kwacha',\n",
    "       'Taiwan':'TWD\\tNew Taiwan dollar', 'Nomadic':'USD\\tUnited States dollar', 'Latvia':'EUR European Euro', 'Guatemala':'GTQ\\tGuatemalan quetzal',\n",
    "                      'Paraguay':'PYG\\tParaguayan guarani', 'Iceland':'ISK\\tIcelandic krona',\n",
    "       'Haiti':'HTG\\tHaitian gourde', 'Republic of Moldova':'MDL\\tMoldovan leu', 'Kazakhstan':'KZT\\tKazakhstani tenge',\n",
    "       'Libyan Arab Jamahiriya':'LYD\\tLibyan dinar', 'Afghanistan':'AFN\\tAfghan afghani', 'Panama':'USD\\tUnited States dollar',\n",
    "                      \"Côte d'Ivoire\":'XOF\\tWest African CFA franc',\n",
    "       'Cuba':'CUP\\tCuban peso', 'Myanmar':'MMK\\tMyanmar kyat', 'Tajikistan':'TJS\\tTajikistani somoni',\n",
    "       \"Lao People's Democratic Republic\":'LAK\\tLao kip', 'Yemen':'YER\\tYemeni rial', 'Thailand':'THB\\tThai baht', 'Qatar':'QAR\\tQatari riyal',\n",
    "       'Democratic Republic of the Congo':'CDF\\tCongolese franc', 'Iraq':'IQD\\tIraqi dinar', 'Mozambique':'MZN\\tMozambican metical',\n",
    "       'Somalia':'USD\\tUnited States dollar', 'Andorra':'EUR European Euro', 'Kyrgyzstan':'KGS\\tKyrgyzstani som', \n",
    "                      'Kuwait':'KWD\\tKuwaiti dinar', 'Saudi Arabia':'SAR\\tSaudi Arabian riyal',\n",
    "       'Mauritania':'MRU\\tMauritanian ouguiya', 'Honduras':'HNL\\tHonduran lempira', 'Angola':'AOA\\tAngolan kwanza',\n",
    "                      'Oman':'OMR\\tOmani rial', 'Swaziland':'SZL\\tSwazi lilangeni', 'Sudan':'SDG\\tSudanese pound',\n",
    "       'Guyana':'GYD\\tGuyanese dollar', 'Chad':'XAF\\tCentral African CFA franc', 'El Salvador':'USD\\tUnited States dollar',\n",
    "                      'Benin':'XOF\\tWest African CFA franc', 'North Korea':'KPW\\tNorth Korean won',\n",
    "       'Nicaragua':'NIO\\tNicaraguan cordoba', 'Dominica':'XCD\\tEast Caribbean dollar', 'Trinidad and Tobago':'TTD\\tTrinidad and Tobago dollar', 'Ghana':'GHS\\tGhanaian cedi',\n",
    "       'Barbados':'BBD\\tBarbadian dollar', 'Burundi':'BIF\\tBurundi franc', 'Micronesia, Federated States of...':'USD\\tUnited States dollar',\n",
    "       'Zimbabwe':'USD\\tUnited States dollar', 'Mauritius':'MUR\\tMauritian rupee', 'Gambia':'GMD\\tGambian dalasi', 'Bahamas':'USD\\tUnited States dollar',\n",
    "       'Congo, Republic of the...':'USD\\tUnited States dollar', 'Suriname':'LKR\\tSri Lankan rupee', 'Djibouti':'DJF\\tDjiboutian franc',\n",
    "       'Republic of Korea':'KRW\\tSouth Korean won', 'Bhutan':'BTN\\tBhutanese ngultrum', 'Cambodia':'KHR\\tCambodian riel', 'Uganda':'UGX\\tUgandan shilling'\n",
    "                      , 'RWF\\tRwandan franc':'RWF\\tRwandan franc',\n",
    "       'Montenegro':'EUR European Euro', 'Maldives':'MVR\\tMaldivian rufiyaa', 'Saint Kitts and Nevis':'RUB\\tRussian ruble',\n",
    "                      'Monaco':'EUR European Euro',\n",
    "       'Togo':'XOF\\tWest African CFA franc', 'Isle of Man':'IMP\\tManx pound', 'Jamaica':'JMD\\tJamaican dollar', \n",
    "                      'Belize':'BZD\\tBelize dollar', 'Palestine':'USD\\tUnited States dollar',\n",
    "       'Mongolia':'MNT\\tMongolian tugrik', 'Burkina Faso':'XOF\\tWest African CFA franc', 'Liechtenstein':'EUR European Euro'\n",
    "                      , 'Saint Lucia':'XCD\\tEast Caribbean dollar',\n",
    "       'Cape Verde':'CVE\\tCape Verdean escudo', 'Brunei Darussalam':'AED United Arab Emirates dirham', 'Namibia':'NAD\\tNamibian dollar',\n",
    "       'Central African Republic':'USD\\tUnited States dollar', 'Lesotho':'LSL\\tLesotho loti', 'Guinea':'GNF\\tGuinean franc', 'Liberia':'LRD\\tLiberian dollar',\n",
    "                      'Fiji':'FJD\\tFijian dollar',\n",
    "       'Niger':'XOF\\tWest African CFA franc', 'Sierra Leone':'USD\\tUnited States dollar', 'San Marino':'EUR European Euro',\n",
    "       'Saint Vincent and the Grenadines':'XCD\\tEast Caribbean dollar', 'Tuvalu':'AUD\\tAustralian dollar', 'Papua New Guinea':'PGK\\tPapua New Guinean kina',\n",
    "       'Mali':'XAF\\tCentral African CFA franc','Rwanda':'RWF\\tRwandan franc'}"
   ]
  },
  {
   "cell_type": "markdown",
   "id": "3f836b2e",
   "metadata": {},
   "source": [
    "### After that we have to get the currency conversion rates to convert ConvertedCompYearly Column values to USD values "
   ]
  },
  {
   "cell_type": "code",
   "execution_count": 153,
   "id": "4fdac5dc",
   "metadata": {},
   "outputs": [],
   "source": [
    "CurrencyConvertFactorMap = {'EUR European Euro':1.07, 'GBP\\tPound sterling':1.27,\n",
    "       'INR\\tIndian rupee': 0.013, 'SEK\\tSwedish krona': 0.10, 'TRY\\tTurkish lira':0.068,\n",
    "       'CAD\\tCanadian dollar':0.78, 'SGD\\tSingapore dollar':0.73,\n",
    "       'CHF\\tSwiss franc':1.05, 'RUB\\tRussian ruble':0.013,\n",
    "       'ILS\\tIsraeli new shekel':0.30, 'USD\\tUnited States dollar':1,\n",
    "       'BRL\\tBrazilian real':0.21, 'BGN\\tBulgarian lev':0.55,\n",
    "       'AED United Arab Emirates dirham':0.27, 'PLN\\tPolish zloty':0.23,\n",
    "       'UZS\\tUzbekistani som':0.000089, 'HUF\\tHungarian forint':0.0029,\n",
    "       'PKR\\tPakistani rupee':0.0053, 'ZMW Zambian kwacha':0.059,\n",
    "       'NGN\\tNigerian naira':0.0024, 'ALL\\tAlbanian lek':0.0090,\n",
    "       'BDT\\tBangladeshi taka':0.012, 'IRR\\tIranian rial':0.000024, 'RON\\tRomanian leu':0.22 ,\n",
    "       'HRK\\tCroatian kuna':0.14, 'GEL\\tGeorgian lari':0.33, 'DKK\\tDanish krone':0.14,\n",
    "       'AMD\\tArmenian dram':0.0021, 'LBP\\tLebanese pound':0.00066, 'BHD\\tBahraini dinar':2.65,\n",
    "       'EGP\\tEgyptian pound':0.054, 'AUD\\tAustralian dollar':0.71,\n",
    "       'CLP\\tChilean peso':0.0012, 'IDR\\tIndonesian rupiah':0.000069,\n",
    "       'RSD\\tSerbian dinar':0.0091, 'KRW\\tSouth Korean won':0.00080,\n",
    "       'HKD\\tHong Kong dollar':0.13, 'NPR\\tNepalese rupee':0.0082,\n",
    "       'UAH\\tUkrainian hryvnia':0.033, 'JPY\\tJapanese yen':0.0078,\n",
    "       'TZS\\tTanzanian shilling':0.00043, 'PEN\\tPeruvian sol':0.27,\n",
    "       'BOB\\tBolivian boliviano':0.15, 'CZK\\tCzech koruna':0.044,\n",
    "       'ZAR\\tSouth African rand':0.063, 'ARS\\tArgentine peso':0.0087,\n",
    "       'NOK\\tNorwegian krone':0.11, 'VND\\tVietnamese dong':0.000044,\n",
    "       'MYR\\tMalaysian ringgit':0.23, 'MGA\\tMalagasy ariary':0.00025,\n",
    "       'KES\\tKenyan shilling':0.0086, 'LKR\\tSri Lankan rupee':0.0029,\n",
    "       'TND\\tTunisian dinar':0.33, 'BYN\\tBelarusian ruble':0.30,\n",
    "       'COP\\tColombian peso':0.00025, 'MKD\\tMacedonian denar':0.017,\n",
    "       'BWP\\tBotswana pula':0.083, 'DZD\\tAlgerian dinar':0.0069,\n",
    "       'BAM\\tBosnia and Herzegovina convertible mark':0.55,\n",
    "       'CNY\\tChinese Yuan Renminbi':0.15, 'MXN\\tMexican peso':0.049,\n",
    "       'MAD\\tMoroccan dirham':0.10, 'JOD\\tJordanian dinar':1.41,\n",
    "       'DOP\\tDominican peso':0.018, 'THB\\tThai baht':0.029, 'ETB\\tEthiopian birr':0.020,\n",
    "       'XOF\\tWest African CFA franc':0.0016, 'PYG\\tParaguayan guarani':0.00015,\n",
    "       'ISK\\tIcelandic krona':0.0077, 'HTG\\tHaitian gourde':0.0092,\n",
    "       'TWD\\tNew Taiwan dollar':0.034, 'GTQ\\tGuatemalan quetzal':0.13,\n",
    "       'XAF\\tCentral African CFA franc':0.0016, 'KZT\\tKazakhstani tenge':0.0022,\n",
    "       'LYD\\tLibyan dinar':0.21, 'CUP\\tCuban peso':0.042, 'SYP\\tSyrian pound':0.000398005,\n",
    "       'PHP\\tPhilippine peso':0.019, 'XCD\\tEast Caribbean dollar':0.37,\n",
    "       'LAK\\tLao kip':0.000083, 'YER\\tYemeni rial':0.000083, 'TOP\\tTongan pa’anga':0.44,\n",
    "       'IQD\\tIraqi dinar':0.00069, 'CRC\\tCosta Rican colon':0.0015,\n",
    "       'MRU\\tMauritanian ouguiya':0.027, 'AZN\\tAzerbaijan manat':0.59,\n",
    "       'SAR\\tSaudi Arabian riyal':0.27, 'AOA\\tAngolan kwanza':0.0025,\n",
    "       'SDG\\tSudanese pound':0.0022, 'GYD\\tGuyanese dollar':0.0048, 'XPF\\tCFP franc':0.0090,\n",
    "       'NZD\\tNew Zealand dollar':0.66, 'UYU\\tUruguayan peso':0.025,\n",
    "       'HNL\\tHonduran lempira':0.041, 'NIO\\tNicaraguan cordoba':0.028,\n",
    "       'MZN\\tMozambican metical':0.016, 'TTD\\tTrinidad and Tobago dollar':0.15,\n",
    "       'GHS\\tGhanaian cedi':0.13, 'BBD\\tBarbadian dollar':0.50,\n",
    "       'FJD\\tFijian dollar':0.47, 'VES\\tVenezuelan bolivar':0.225634,\n",
    "       'UGX\\tUgandan shilling':0.00028, 'KWD\\tKuwaiti dinar':3.27,\n",
    "       'GMD\\tGambian dalasi':0.019, 'LSL\\tLesotho loti':0.064, 'MMK\\tMyanmar kyat':0.00054,\n",
    "       'KGS\\tKyrgyzstani som':0.012, 'AFN\\tAfghan afghani':0.011,\n",
    "       'MUR\\tMauritian rupee':0.023, 'SZL\\tSwazi lilangeni':0.064,\n",
    "       'RWF\\tRwandan franc':0.00098, 'MDL\\tMoldovan leu':0.054, 'TMT\\tTurkmen manat':0.29,\n",
    "       'KYD\\tCayman Islands dollar':1.20, 'KHR\\tCambodian riel':0.00025,\n",
    "       'IMP\\tManx pound':1.28409, 'QAR\\tQatari riyal':0.27, 'BZD\\tBelize dollar':0.50,\n",
    "       'ANG Netherlands Antillean guilder':0.56, 'MNT\\tMongolian tugrik':0.000325877,\n",
    "       'TJS\\tTajikistani somoni':0.080, 'OMR\\tOmani rial':2.60, 'BIF\\tBurundi franc':0.00050,\n",
    "       'JMD\\tJamaican dollar':0.0065, 'NAD\\tNamibian dollar':0.064,\n",
    "       'GNF\\tGuinean franc':0.00011, 'none\\tCook Islands dollar':0.66,\n",
    "       'CDF\\tCongolese franc':0.00050, 'PGK\\tPapua New Guinean kina':0.28,\n",
    "       'LRD\\tLiberian dollar':0.0066, 'MVR\\tMaldivian rufiyaa':0.065,\n",
    "       'GIP\\tGibraltar pound':1.2965, 'BSD\\tBahamian dollar':1.00,\n",
    "       'AWG\\tAruban florin':0.56, 'DJF\\tDjiboutian franc':0.0056,\n",
    "       'SHP\\tSaint Helena pound':1.27985, 'MWK\\tMalawian kwacha':0.0012,\n",
    "       'BTN\\tBhutanese ngultrum':0.013, 'SRD\\tSurinamese dollar':0.048,\n",
    "       'VUV\\tVanuatu vatu':0.00892519, 'CVE\\tCape Verdean escudo':0.0098,\n",
    "       'BMD\\tBermudian dollar':1.00, 'GGP\\tGuernsey Pound':1.28451,\n",
    "       'KPW\\tNorth Korean won':0.00111107, 'XDR\\tSDR (Special Drawing Right)':1.35715,\n",
    "       'ERN\\tEritrean nakfa':0.0666667}"
   ]
  },
  {
   "cell_type": "markdown",
   "id": "88c25fd7",
   "metadata": {},
   "source": [
    "### Last step in unifying currency is the actual mapping "
   ]
  },
  {
   "cell_type": "code",
   "execution_count": 154,
   "id": "007d6551",
   "metadata": {},
   "outputs": [],
   "source": [
    "for Country in CountriesNaCurrency:\n",
    "    df.loc[(df['Currency'].isna()) & (df['Country'] == Country),'Currency'] = df['Country'].map(CountryCurrencyMap)\n",
    "    "
   ]
  },
  {
   "cell_type": "markdown",
   "id": "c4ce9c63",
   "metadata": {},
   "source": [
    "### Checking for NaN values in Currency Column"
   ]
  },
  {
   "cell_type": "code",
   "execution_count": 155,
   "id": "8f4ab2fc",
   "metadata": {},
   "outputs": [
    {
     "data": {
      "text/plain": [
       "0"
      ]
     },
     "execution_count": 155,
     "metadata": {},
     "output_type": "execute_result"
    }
   ],
   "source": [
    "df['Currency'].isna().sum()"
   ]
  },
  {
   "cell_type": "markdown",
   "id": "526fcfb5",
   "metadata": {},
   "source": [
    "### Featuring a new column for CurrencyConversionRates to multiply it by ConvertedCompYearly to get USD values"
   ]
  },
  {
   "cell_type": "code",
   "execution_count": 156,
   "id": "6aea3dae",
   "metadata": {},
   "outputs": [],
   "source": [
    "df['CurrencyConversionRates'] = df['Currency'].map(CurrencyConvertFactorMap)"
   ]
  },
  {
   "cell_type": "markdown",
   "id": "7b15d290",
   "metadata": {},
   "source": [
    "### Featuring the new AnnualSalary Column with the Equivalent Annual Salary in USD "
   ]
  },
  {
   "cell_type": "code",
   "execution_count": 157,
   "id": "0b79343a",
   "metadata": {},
   "outputs": [],
   "source": [
    "df['AnnualSalary'] = df['CurrencyConversionRates'] * df['ConvertedCompYearly']"
   ]
  },
  {
   "cell_type": "code",
   "execution_count": 158,
   "id": "15cdd5d7",
   "metadata": {},
   "outputs": [
    {
     "data": {
      "text/plain": [
       "36595"
      ]
     },
     "execution_count": 158,
     "metadata": {},
     "output_type": "execute_result"
    }
   ],
   "source": [
    "df['AnnualSalary'].isna().sum()"
   ]
  },
  {
   "cell_type": "markdown",
   "id": "45c767bb",
   "metadata": {},
   "source": [
    "### Getting rows with Zero Annual Salaries to fill with the mean salary for each country.\n",
    "\n",
    "### But be aware of the MainBranch  Column Data as we cannot fill the AnnualSalary for Students and \n",
    " \n",
    "### Unemployed people taking the survey  So we DROP them."
   ]
  },
  {
   "cell_type": "code",
   "execution_count": 159,
   "id": "d7ffbd7a",
   "metadata": {},
   "outputs": [],
   "source": [
    "df.drop(df.loc[(df['MainBranch'] == 'I code primarily as a hobby') | (df['MainBranch'] == 'I am a student who is learning to code') ].index,axis = 0,inplace = True)"
   ]
  },
  {
   "cell_type": "code",
   "execution_count": 160,
   "id": "09cfa957",
   "metadata": {},
   "outputs": [
    {
     "data": {
      "text/plain": [
       "(66481, 23)"
      ]
     },
     "execution_count": 160,
     "metadata": {},
     "output_type": "execute_result"
    }
   ],
   "source": [
    "df.shape"
   ]
  },
  {
   "cell_type": "code",
   "execution_count": 161,
   "id": "c11b54d9",
   "metadata": {},
   "outputs": [
    {
     "data": {
      "text/plain": [
       "Employed full-time                                      52482\n",
       "Independent contractor, freelancer, or self-employed     7374\n",
       "Employed part-time                                       1966\n",
       "Student, full-time                                       1863\n",
       "Not employed, but looking for work                       1329\n",
       "Student, part-time                                        588\n",
       "I prefer not to say                                       329\n",
       "Not employed, and not looking for work                    272\n",
       "Retired                                                   216\n",
       "Name: Employment, dtype: int64"
      ]
     },
     "execution_count": 161,
     "metadata": {},
     "output_type": "execute_result"
    }
   ],
   "source": [
    "df['Employment'].value_counts()"
   ]
  },
  {
   "cell_type": "code",
   "execution_count": 162,
   "id": "66cf1247",
   "metadata": {},
   "outputs": [],
   "source": [
    "df.drop(df.loc[(df['Employment'] == 'Not employed, but looking for work') | (df['Employment'] == 'Not employed, and not looking for work')|(df['Employment'] == 'Student, full-time') |(df['Employment'] == 'Student, part-time')].index,axis = 0,inplace = True)"
   ]
  },
  {
   "cell_type": "code",
   "execution_count": 163,
   "id": "27cb06ea",
   "metadata": {},
   "outputs": [],
   "source": [
    "df['Employment']=df['Employment'].map({'Independent contractor, freelancer, or self-employed':'Free Lancer',\n",
    "                                       'I prefer not to say':'Full Time',\n",
    "                                       'Employed full-time':'Full Time',\n",
    "                                       'Employed part-time':'Part Time'})\n",
    "df['Employment'].fillna(value = df['Employment'].mode()[0],inplace = True)"
   ]
  },
  {
   "cell_type": "code",
   "execution_count": 164,
   "id": "0a533e04",
   "metadata": {},
   "outputs": [
    {
     "data": {
      "text/plain": [
       "<AxesSubplot:>"
      ]
     },
     "execution_count": 164,
     "metadata": {},
     "output_type": "execute_result"
    },
    {
     "data": {
      "image/png": "[encoded data removed]",
      "text/plain": [
       "<Figure size 864x576 with 1 Axes>"
      ]
     },
     "metadata": {
      "needs_background": "light"
     },
     "output_type": "display_data"
    }
   ],
   "source": [
    "df['Employment'].value_counts().plot(kind = 'bar', figsize =(12,8) )"
   ]
  },
  {
   "cell_type": "code",
   "execution_count": 165,
   "id": "7211b3f6",
   "metadata": {},
   "outputs": [
    {
     "data": {
      "text/plain": [
       "15585"
      ]
     },
     "execution_count": 165,
     "metadata": {},
     "output_type": "execute_result"
    }
   ],
   "source": [
    "df['AnnualSalary'].isna().sum()"
   ]
  },
  {
   "cell_type": "markdown",
   "id": "bc66f725",
   "metadata": {},
   "source": [
    "## Dropping an outlier in Afghanistan that was Affecting the mean salary of this country and the overall mean of countries"
   ]
  },
  {
   "cell_type": "code",
   "execution_count": 166,
   "id": "06f5020f",
   "metadata": {},
   "outputs": [],
   "source": [
    "df.drop(df.loc[(df['Country'] == 'Afghanistan')].index[26],axis = 0 , inplace = True)"
   ]
  },
  {
   "cell_type": "code",
   "execution_count": 167,
   "id": "8d9d9c27",
   "metadata": {},
   "outputs": [
    {
     "name": "stderr",
     "output_type": "stream",
     "text": [
      "C:\\Anaconda3\\lib\\site-packages\\pandas\\core\\series.py:4463: SettingWithCopyWarning: \n",
      "A value is trying to be set on a copy of a slice from a DataFrame\n",
      "\n",
      "See the caveats in the documentation: https://pandas.pydata.org/pandas-docs/stable/user_guide/indexing.html#returning-a-view-versus-a-copy\n",
      "  return super().fillna(\n"
     ]
    }
   ],
   "source": [
    "for country in df[df['AnnualSalary'].isna()]['Country'].unique():\n",
    "   dfcountry = df.loc[(df['Country'] == country) & (df['AnnualSalary'].isna())]\n",
    "   dfcountry['AnnualSalary'].fillna(value = df[df['Country'] == country]['AnnualSalary'].mean(),inplace = True)\n",
    "   df.drop(df.loc[(df['Country'] ==country)&(df['AnnualSalary'].isna())].index,axis =0,inplace =True)\n",
    "   df =pd.concat([df,dfcountry], axis = 0)"
   ]
  },
  {
   "cell_type": "code",
   "execution_count": 168,
   "id": "227738c3",
   "metadata": {},
   "outputs": [
    {
     "data": {
      "text/plain": [
       "3"
      ]
     },
     "execution_count": 168,
     "metadata": {},
     "output_type": "execute_result"
    }
   ],
   "source": [
    "df['AnnualSalary'].isna().sum()"
   ]
  },
  {
   "cell_type": "code",
   "execution_count": 169,
   "id": "91e613c1",
   "metadata": {},
   "outputs": [],
   "source": [
    "df.loc[df['AnnualSalary'] < 1000,'AnnualSalary'] = 1000"
   ]
  },
  {
   "cell_type": "code",
   "execution_count": 170,
   "id": "32b1af69",
   "metadata": {},
   "outputs": [],
   "source": [
    "def EmployeeLevel (age):\n",
    "    if age in range(17,27):\n",
    "        return 'Junior'\n",
    "    elif age in range(27,32):\n",
    "        return 'Senior'\n",
    "    elif age in range(32,40):\n",
    "        return 'Lead'\n",
    "    else:\n",
    "        return 'Manager'"
   ]
  },
  {
   "cell_type": "code",
   "execution_count": 171,
   "id": "6143f00b",
   "metadata": {},
   "outputs": [],
   "source": [
    "df['EmployeeLevel'] = df['Age'].apply(EmployeeLevel)"
   ]
  },
  {
   "cell_type": "markdown",
   "id": "f38daa65",
   "metadata": {},
   "source": [
    "### Droping the remaining Null values after cleaning"
   ]
  },
  {
   "cell_type": "code",
   "execution_count": 172,
   "id": "215683d4",
   "metadata": {},
   "outputs": [],
   "source": [
    "df.dropna(how ='any',subset = ['AnnualSalary'],inplace =True)"
   ]
  },
  {
   "cell_type": "code",
   "execution_count": 173,
   "id": "906cd44a",
   "metadata": {},
   "outputs": [
    {
     "data": {
      "text/plain": [
       "MainBranch                          0\n",
       "Employment                          0\n",
       "Country                             0\n",
       "EdLevel                             0\n",
       "LearnCode                           0\n",
       "YearsCode                           0\n",
       "DevType                             0\n",
       "Currency                            0\n",
       "LanguageHaveWorkedWith              0\n",
       "PlatformHaveWorkedWith              0\n",
       "WebframeHaveWorkedWith              0\n",
       "MiscTechHaveWorkedWith              0\n",
       "ToolsTechHaveWorkedWith             0\n",
       "NEWCollabToolsHaveWorkedWith        0\n",
       "OpSys                               0\n",
       "NEWStuck                            0\n",
       "SOVisitFreq                         0\n",
       "Age                                 0\n",
       "Gender                              0\n",
       "ConvertedCompYearly             15582\n",
       "GenderEditted                       0\n",
       "CurrencyConversionRates             0\n",
       "AnnualSalary                        0\n",
       "EmployeeLevel                       0\n",
       "dtype: int64"
      ]
     },
     "execution_count": 173,
     "metadata": {},
     "output_type": "execute_result"
    }
   ],
   "source": [
    "df.isna().sum()"
   ]
  },
  {
   "cell_type": "markdown",
   "id": "dab816a3",
   "metadata": {},
   "source": [
    "## Droping more columns that will not be used any more"
   ]
  },
  {
   "cell_type": "code",
   "execution_count": 174,
   "id": "64049008",
   "metadata": {},
   "outputs": [],
   "source": [
    "df.drop(columns=['Currency','CurrencyConversionRates','Gender','Currency','LearnCode','MainBranch' , 'ConvertedCompYearly'],axis = 1,inplace = True)"
   ]
  },
  {
   "cell_type": "code",
   "execution_count": 175,
   "id": "ef6fd2b0",
   "metadata": {},
   "outputs": [
    {
     "data": {
      "text/plain": [
       "array(['C++;HTML/CSS;JavaScript;Objective-C;PHP;Swift', 'C++;Python',\n",
       "       'Bash/Shell;HTML/CSS;JavaScript;Node.js;SQL;TypeScript', ...,\n",
       "       'Dart;Go;HTML/CSS;JavaScript;PHP',\n",
       "       'C;C++;HTML/CSS;Kotlin;Objective-C;PHP;Swift',\n",
       "       'C#;HTML/CSS;Java;Node.js;PowerShell;Python;R;SQL'], dtype=object)"
      ]
     },
     "execution_count": 175,
     "metadata": {},
     "output_type": "execute_result"
    }
   ],
   "source": [
    "df['LanguageHaveWorkedWith'].unique()"
   ]
  },
  {
   "cell_type": "markdown",
   "id": "8bd04df7",
   "metadata": {},
   "source": [
    "## Some Analysis For The Data Set :"
   ]
  },
  {
   "cell_type": "code",
   "execution_count": 176,
   "id": "d38bf005",
   "metadata": {},
   "outputs": [],
   "source": [
    "df1=df.copy()\n",
    "df1['LanguageHaveWorkedWith'] = df1['LanguageHaveWorkedWith'].astype(str).apply(lambda x:x.split(';'))\n",
    "df1 = df1.explode('LanguageHaveWorkedWith')"
   ]
  },
  {
   "cell_type": "markdown",
   "id": "1f4285f3",
   "metadata": {},
   "source": [
    "## Top 10 Highest Countries Annual Salary "
   ]
  },
  {
   "cell_type": "code",
   "execution_count": 177,
   "id": "21e32b0f",
   "metadata": {},
   "outputs": [
    {
     "data": {
      "text/plain": [
       "<AxesSubplot:xlabel='Country'>"
      ]
     },
     "execution_count": 177,
     "metadata": {},
     "output_type": "execute_result"
    },
    {
     "data": {
      "image/png": "[encoded data removed]",
      "text/plain": [
       "<Figure size 864x576 with 1 Axes>"
      ]
     },
     "metadata": {
      "needs_background": "light"
     },
     "output_type": "display_data"
    }
   ],
   "source": [
    "df.groupby('Country').mean()['AnnualSalary'].sort_values(ascending = False)[:10].plot(kind = 'bar' , figsize =(12,8))"
   ]
  },
  {
   "cell_type": "markdown",
   "id": "2034c997",
   "metadata": {},
   "source": [
    "## Programming Languages with Maximum Annual Salary "
   ]
  },
  {
   "cell_type": "code",
   "execution_count": 178,
   "id": "9deec889",
   "metadata": {},
   "outputs": [
    {
     "data": {
      "text/plain": [
       "<AxesSubplot:xlabel='LanguageHaveWorkedWith'>"
      ]
     },
     "execution_count": 178,
     "metadata": {},
     "output_type": "execute_result"
    },
    {
     "data": {
      "image/png": "[encoded data removed]",
      "text/plain": [
       "<Figure size 864x576 with 1 Axes>"
      ]
     },
     "metadata": {
      "needs_background": "light"
     },
     "output_type": "display_data"
    }
   ],
   "source": [
    "df1[['LanguageHaveWorkedWith','AnnualSalary']].groupby('LanguageHaveWorkedWith').mean()['AnnualSalary'].sort_values(ascending = False).plot(\n",
    "kind = 'bar' , x = 'LanguageHaveWorkedWith' , y = 'AnnualSalary' , figsize= (12,8))\n",
    "#plt.figure(figsize=(15,8))\n",
    "#ax = sns.barplot(data = df1 , x = 'LanguageHaveWorkedWith' , y = 'AnnualSalary' , order = order, ci = None)\n",
    "#x.set_xticklabels(ax.get_xticklabels(),rotation = 90)"
   ]
  },
  {
   "cell_type": "markdown",
   "id": "b05b0716",
   "metadata": {},
   "source": [
    "## Creating Continents Feature to Compare each Continent's Insights"
   ]
  },
  {
   "cell_type": "code",
   "execution_count": 179,
   "id": "33d0c9c4",
   "metadata": {},
   "outputs": [],
   "source": [
    "AfricanCountries = ['Egypt','United Republic of Tanzania','South Africa','Tunisia','Morocco', 'Nigeria', 'Kenya', 'Algeria'\n",
    "                   ,'Ethiopia','Libyan Arab Jamahiriya','Mauritania','Sudan','Senegal','Zambia','Ghana','Uganda','Zimbabwe'\n",
    "                   ,'Democratic Republic of the Congo', 'Togo','Angola','Burundi','Central African Republic','Guinea', \"Côte d'Ivoire\", 'Cameroon',\n",
    "                   'Congo, Republic of the...','Madagascar','Rwanda', 'Malawi','Somalia','Mozambique', 'Botswana', 'Swaziland','Benin'\n",
    "                   ,'Uganda','Burkina Faso','Cape Verde','Namibia','Lesotho','Liberia','Mauritius','Gambia','Niger', 'Djibouti']"
   ]
  },
  {
   "cell_type": "code",
   "execution_count": 180,
   "id": "f36b2fab",
   "metadata": {},
   "outputs": [],
   "source": [
    "EuropeanCountries = ['Slovakia', 'Netherlands','Austria',\n",
    "       'United Kingdom of Great Britain and Northern Ireland','Sweden', 'Spain',\n",
    "       'Germany','France', 'Switzerland','Poland', 'Ukraine','Portugal', 'Italy', 'Bulgaria', 'Greece','Ireland', 'Georgia',\n",
    "                  'Hungary', 'Belgium', 'Albania', 'Romania', 'Sri Lanka', 'Lithuania', 'Slovenia',\n",
    "       'Croatia', 'Czech Republic', 'Denmark', 'Armenia','Serbia',\n",
    "       'Estonia','Finland', 'Kosovo','Bolivia','Bosnia and Herzegovina','Norway', 'Belarus','Luxembourg', 'Malta',\n",
    "                  'The former Yugoslav Republic of Macedonia' , 'Cyprus', 'Nomadic','Latvia', 'Iceland','Republic of Moldova',\n",
    "                   'San Marino','Montenegro','Andorra','Monaco','Isle of Man']"
   ]
  },
  {
   "cell_type": "code",
   "execution_count": 181,
   "id": "30233b77",
   "metadata": {},
   "outputs": [],
   "source": [
    "Australia = ['Australia','Fiji','New Zealand']"
   ]
  },
  {
   "cell_type": "code",
   "execution_count": 182,
   "id": "a82461e6",
   "metadata": {},
   "outputs": [],
   "source": [
    "NorthAmericanCountries = ['United States of America','Canada','Dominican Republic','Costa Rica','Mexico',\n",
    "                          'Saint Vincent and the Grenadines','Jamaica','Belize','Saint Lucia',\n",
    "                         'Guatemala','Panama','Cuba','El Salvador','Dominica','Nicaragua','Barbados','Haiti',\n",
    "                         'Saint Kitts and Nevis']"
   ]
  },
  {
   "cell_type": "code",
   "execution_count": 183,
   "id": "7d2f5ebc",
   "metadata": {},
   "outputs": [],
   "source": [
    "AsianCountries = ['Turkey','China' , 'Singapore' ,'Russian Federation','Uzbekistan','Pakistan',\n",
    "                 'Bangladesh','Viet Nam','India','Lebanon','Bahrain','Indonesia','Iran, Islamic Republic of...',\n",
    "                'Hong Kong (S.A.R.)', 'Japan', 'United Arab Emirates','Jordan','Syrian Arab Republic','Taiwan'\n",
    "                 ,'South Korea','Nepal','Israel','Kazakhstan','Iraq',\n",
    "       'Philippines', 'Azerbaijan', 'Saudi Arabia', 'Honduras','Myanmar',\n",
    "       'Republic of Korea', 'Cambodia', 'Kyrgyzstan', 'Afghanistan','Turkmenistan','Qatar','Palestine', 'Mongolia', 'Tajikistan',\n",
    "                 'Oman','Maldives','Bhutan', 'North Korea','Malaysia','Thailand','Cambodia','Yemen','Kuwait',\"Lao People's Democratic Republic\",\n",
    "                 'Trinidad and Tobago']"
   ]
  },
  {
   "cell_type": "code",
   "execution_count": 184,
   "id": "fbc95ba2",
   "metadata": {},
   "outputs": [],
   "source": [
    "SouthAmericanCountries = ['Brazil','Colombia','Chile','Argentina', 'Peru','Bolivia','Uruguay','Venezuela, Bolivarian Republic of...',\n",
    "                         'Dominican Republic', 'Ecuador','Paraguay','Guyana','Suriname']"
   ]
  },
  {
   "cell_type": "code",
   "execution_count": 185,
   "id": "d75b8f56",
   "metadata": {},
   "outputs": [],
   "source": [
    "def CreateContinent(country):\n",
    "    if country in AfricanCountries:\n",
    "        return 'Africa'\n",
    "    elif country in EuropeanCountries :\n",
    "        return 'Europe'\n",
    "    elif country in Australia:\n",
    "        return 'Australia'\n",
    "    elif country in SouthAmericanCountries :\n",
    "        return 'South America'\n",
    "    elif country in NorthAmericanCountries :\n",
    "        return 'North America'\n",
    "    elif country in AsianCountries :\n",
    "        return 'Asia'\n",
    "    else :\n",
    "        return np.nan"
   ]
  },
  {
   "cell_type": "code",
   "execution_count": 186,
   "id": "3033f24a",
   "metadata": {},
   "outputs": [],
   "source": [
    "df['Continent'] = df['Country'].apply(CreateContinent)"
   ]
  },
  {
   "cell_type": "code",
   "execution_count": 187,
   "id": "e02c5aed",
   "metadata": {},
   "outputs": [
    {
     "data": {
      "text/plain": [
       "0"
      ]
     },
     "execution_count": 187,
     "metadata": {},
     "output_type": "execute_result"
    }
   ],
   "source": [
    "df['Continent'].isna().sum()"
   ]
  },
  {
   "cell_type": "code",
   "execution_count": 188,
   "id": "9495c49b",
   "metadata": {},
   "outputs": [
    {
     "data": {
      "text/plain": [
       "21822250.0"
      ]
     },
     "execution_count": 188,
     "metadata": {},
     "output_type": "execute_result"
    }
   ],
   "source": [
    "df[df['Continent'] == 'North America']['AnnualSalary'].max()"
   ]
  },
  {
   "cell_type": "code",
   "execution_count": 189,
   "id": "a891e507",
   "metadata": {},
   "outputs": [
    {
     "data": {
      "text/plain": [
       "15420441.96"
      ]
     },
     "execution_count": 189,
     "metadata": {},
     "output_type": "execute_result"
    }
   ],
   "source": [
    "df[df['Continent'] == 'Europe']['AnnualSalary'].max()"
   ]
  },
  {
   "cell_type": "markdown",
   "id": "ba2a9214",
   "metadata": {},
   "source": [
    "## Mean Annual Salary For Each Continent "
   ]
  },
  {
   "cell_type": "code",
   "execution_count": 190,
   "id": "57d15ec3",
   "metadata": {},
   "outputs": [
    {
     "data": {
      "image/png": "[encoded data removed]",
      "text/plain": [
       "<Figure size 864x576 with 1 Axes>"
      ]
     },
     "metadata": {
      "needs_background": "light"
     },
     "output_type": "display_data"
    }
   ],
   "source": [
    "plt.figure(figsize =(12,8))\n",
    "df.groupby('Continent').mean()['AnnualSalary'].sort_values(ascending = False).plot(kind = 'bar' )\n",
    "plt.grid(False)"
   ]
  },
  {
   "cell_type": "markdown",
   "id": "c6f6d6db",
   "metadata": {},
   "source": [
    "## Number of Developers in Each Continent for the data set"
   ]
  },
  {
   "cell_type": "code",
   "execution_count": 191,
   "id": "e28a92e1",
   "metadata": {},
   "outputs": [
    {
     "data": {
      "image/png": "[encoded data removed]",
      "text/plain": [
       "<Figure size 864x576 with 1 Axes>"
      ]
     },
     "metadata": {
      "needs_background": "light"
     },
     "output_type": "display_data"
    }
   ],
   "source": [
    "plt.figure(figsize =(12,8))\n",
    "df.groupby(['Continent']).count()['Country'].sort_values(ascending =False).plot(kind= 'bar')\n",
    "plt.grid(False)"
   ]
  },
  {
   "cell_type": "markdown",
   "id": "a94b9b25",
   "metadata": {},
   "source": [
    "## Data Scientists and Full Stack Specilization Features :"
   ]
  },
  {
   "cell_type": "code",
   "execution_count": 192,
   "id": "c3451e5d",
   "metadata": {},
   "outputs": [],
   "source": [
    "def IsFullStack(dfr):\n",
    "    if 'Developer, full-stack' in dfr:\n",
    "        return 1\n",
    "    else:\n",
    "        return 0\n",
    "    \n",
    "def IsDataScientist(dfr):\n",
    "    if 'Data scientist or machine learning specialist' in dfr:\n",
    "        return 1\n",
    "    else:\n",
    "        return 0    \n",
    "\n",
    "    \n",
    "df['IsDataScientist'] = df['DevType'].apply(IsDataScientist)\n",
    "df['IsFullStack'] = df['DevType'].apply(IsFullStack)"
   ]
  },
  {
   "cell_type": "markdown",
   "id": "2ade127c",
   "metadata": {},
   "source": [
    "## Job Titles With High Average Annual Salary"
   ]
  },
  {
   "cell_type": "code",
   "execution_count": 193,
   "id": "e3da2b71",
   "metadata": {},
   "outputs": [
    {
     "data": {
      "text/plain": [
       "<AxesSubplot:xlabel='DevType'>"
      ]
     },
     "execution_count": 193,
     "metadata": {},
     "output_type": "execute_result"
    },
    {
     "data": {
      "image/png": "[encoded data removed]",
      "text/plain": [
       "<Figure size 864x576 with 1 Axes>"
      ]
     },
     "metadata": {
      "needs_background": "light"
     },
     "output_type": "display_data"
    }
   ],
   "source": [
    "df1=df.copy()\n",
    "df1['DevType'] = df1['DevType'].astype(str).apply(lambda x:x.split(';')[0])\n",
    "df1 = df1.explode('DevType')\n",
    "df1[['DevType','AnnualSalary']].groupby('DevType').mean()['AnnualSalary'].sort_values(ascending = False).plot(\n",
    " kind = 'bar' , x = 'DevType' , y = 'AnnualSalary' , figsize =(12,8))\n",
    "#plt.figure(figsize=(15,8))\n",
    "#ax = sns.barplot(data = df1 , x = 'DevType' , y = 'AnnualSalary' , order = order, ci = None)\n",
    "#ax.set_xticklabels(ax.get_xticklabels(),rotation = 90)"
   ]
  },
  {
   "cell_type": "markdown",
   "id": "5a8fedf1",
   "metadata": {},
   "source": [
    "## Highest 10 Individual Salaries in The Data Set "
   ]
  },
  {
   "cell_type": "code",
   "execution_count": 194,
   "id": "43b25a96",
   "metadata": {},
   "outputs": [
    {
     "data": {
      "text/plain": [
       "<AxesSubplot:xlabel='Country'>"
      ]
     },
     "execution_count": 194,
     "metadata": {},
     "output_type": "execute_result"
    },
    {
     "data": {
      "image/png": "[encoded data removed]",
      "text/plain": [
       "<Figure size 864x576 with 1 Axes>"
      ]
     },
     "metadata": {
      "needs_background": "light"
     },
     "output_type": "display_data"
    }
   ],
   "source": [
    "df[['AnnualSalary','Country']].sort_values(by='AnnualSalary',ascending=False)[:10].plot(kind='bar' , x = 'Country' ,figsize=(12,8))"
   ]
  },
  {
   "cell_type": "code",
   "execution_count": 195,
   "id": "11e3be22",
   "metadata": {},
   "outputs": [],
   "source": [
    "def format_number(data_value,indx):\n",
    "    if data_value >1000000:\n",
    "        formatter = '{:1.1f}M'.format(data_value*0.000001)\n",
    "    else:\n",
    "        formatter = '{:1.0f}K'.format(data_value*0.001)\n",
    "    return formatter    \n"
   ]
  },
  {
   "cell_type": "code",
   "execution_count": 196,
   "id": "e40c4aa4",
   "metadata": {},
   "outputs": [],
   "source": [
    "#ax = sns.histplot(data =df , x ='AnnualSalary')\n",
    "#ax.set_xticks(2000,2000000,100000)\n",
    "#ax.xaxis.set_major_formatter(format_number)\n",
    "#plt.tight_layout()"
   ]
  },
  {
   "cell_type": "code",
   "execution_count": 197,
   "id": "0a05d5cc",
   "metadata": {},
   "outputs": [],
   "source": [
    "#ax = sns.histplot(data=df,x= 'AnnualSalary')\n",
    "#plt.xticks(np.arange(0, len(df['AnnualSalary'])+1, 250000))\n",
    "#ax.xaxis.set_major_formatter(format_number)\n",
    "#plt.tight_layout()"
   ]
  },
  {
   "cell_type": "markdown",
   "id": "9eb23eaf",
   "metadata": {},
   "source": [
    "##  Education Level with Highest Annual Salary"
   ]
  },
  {
   "cell_type": "code",
   "execution_count": 198,
   "id": "30a67eeb",
   "metadata": {},
   "outputs": [
    {
     "data": {
      "text/plain": [
       "<AxesSubplot:xlabel='EdLevel'>"
      ]
     },
     "execution_count": 198,
     "metadata": {},
     "output_type": "execute_result"
    },
    {
     "data": {
      "image/png": "[encoded data removed]",
      "text/plain": [
       "<Figure size 864x576 with 1 Axes>"
      ]
     },
     "metadata": {
      "needs_background": "light"
     },
     "output_type": "display_data"
    }
   ],
   "source": [
    "plt.figure(figsize=(12,8))\n",
    "df.groupby('EdLevel').mean()['AnnualSalary'].sort_values(ascending = False).plot(kind = 'bar')"
   ]
  },
  {
   "cell_type": "markdown",
   "id": "79fe21a6",
   "metadata": {},
   "source": [
    "## Platforms Used with Highest mean Annual Salary"
   ]
  },
  {
   "cell_type": "code",
   "execution_count": 199,
   "id": "d35a7741",
   "metadata": {},
   "outputs": [
    {
     "data": {
      "text/plain": [
       "<Figure size 864x576 with 0 Axes>"
      ]
     },
     "execution_count": 199,
     "metadata": {},
     "output_type": "execute_result"
    },
    {
     "data": {
      "text/plain": [
       "<Figure size 864x576 with 0 Axes>"
      ]
     },
     "metadata": {},
     "output_type": "display_data"
    }
   ],
   "source": [
    "df1=df.copy()\n",
    "df1['PlatformHaveWorkedWith'] = df1['PlatformHaveWorkedWith'].astype(str).apply(lambda x:x.split(';'))\n",
    "df1 = df1.explode('PlatformHaveWorkedWith')\n",
    "order = df1[['PlatformHaveWorkedWith','AnnualSalary']].groupby('PlatformHaveWorkedWith').mean()['AnnualSalary'].sort_values(ascending = False).index\n",
    "plt.figure(figsize=(12,8))\n",
    "#ax = sns.barplot(data = df1 , x = 'PlatformHaveWorkedWith' , y = 'AnnualSalary' , order = order, ci = None ,  color = )\n",
    "#ax.set_xticklabels(ax.get_xticklabels(),rotation = 90)"
   ]
  },
  {
   "cell_type": "code",
   "execution_count": 200,
   "id": "0d480f98",
   "metadata": {},
   "outputs": [
    {
     "data": {
      "text/plain": [
       "<AxesSubplot:xlabel='PlatformHaveWorkedWith'>"
      ]
     },
     "execution_count": 200,
     "metadata": {},
     "output_type": "execute_result"
    },
    {
     "data": {
      "image/png": "[encoded data removed]",
      "text/plain": [
       "<Figure size 864x576 with 1 Axes>"
      ]
     },
     "metadata": {
      "needs_background": "light"
     },
     "output_type": "display_data"
    }
   ],
   "source": [
    "df1[['PlatformHaveWorkedWith','AnnualSalary','GenderEditted','EmployeeLevel']].groupby('PlatformHaveWorkedWith').mean()['AnnualSalary'].sort_values(ascending = False).plot(kind = 'bar' , x ='PlatformHaveWorkedWith' , y= 'AnnualSalary' , figsize = (12,8))"
   ]
  },
  {
   "cell_type": "markdown",
   "id": "19a2df87",
   "metadata": {},
   "source": [
    "## Most Platform used by juniors , seniors , managers"
   ]
  },
  {
   "cell_type": "code",
   "execution_count": 201,
   "id": "c262af1a",
   "metadata": {},
   "outputs": [
    {
     "data": {
      "text/plain": [
       "(array([0, 1, 2, 3, 4, 5, 6]),\n",
       " [Text(0, 0, 'AWS'),\n",
       "  Text(1, 0, 'Google Cloud Platform'),\n",
       "  Text(2, 0, 'Heroku'),\n",
       "  Text(3, 0, 'Microsoft Azure'),\n",
       "  Text(4, 0, 'DigitalOcean'),\n",
       "  Text(5, 0, 'IBM Cloud or Watson'),\n",
       "  Text(6, 0, 'Oracle Cloud Infrastructure')])"
      ]
     },
     "execution_count": 201,
     "metadata": {},
     "output_type": "execute_result"
    },
    {
     "data": {
      "image/png": "[encoded data removed]",
      "text/plain": [
       "<Figure size 864x576 with 1 Axes>"
      ]
     },
     "metadata": {
      "needs_background": "light"
     },
     "output_type": "display_data"
    }
   ],
   "source": [
    "### Most junior level developers use AWS so maybe its easier than other platforms\n",
    "#color = sns.color_palette()\n",
    "color = sns.color_palette(\"RdBu\", 10)[-1]\n",
    "plt.figure(figsize=(12,8))\n",
    "sns.countplot(data = df1 , x='PlatformHaveWorkedWith'  , hue = 'EmployeeLevel' ,color = color )\n",
    "plt.xticks(rotation = 90)"
   ]
  },
  {
   "cell_type": "markdown",
   "id": "e4a6b21a",
   "metadata": {},
   "source": [
    "## Number of Full Time Employers Compared to Free Lancers"
   ]
  },
  {
   "cell_type": "code",
   "execution_count": 202,
   "id": "3efe16eb",
   "metadata": {},
   "outputs": [
    {
     "data": {
      "text/plain": [
       "<AxesSubplot:>"
      ]
     },
     "execution_count": 202,
     "metadata": {},
     "output_type": "execute_result"
    },
    {
     "data": {
      "image/png": "[encoded data removed]",
      "text/plain": [
       "<Figure size 864x576 with 1 Axes>"
      ]
     },
     "metadata": {
      "needs_background": "light"
     },
     "output_type": "display_data"
    }
   ],
   "source": [
    "df['Employment'].value_counts().plot(kind = 'bar',figsize = (12,8))"
   ]
  },
  {
   "cell_type": "code",
   "execution_count": 203,
   "id": "aff67aed",
   "metadata": {},
   "outputs": [],
   "source": [
    "def change_width(ax, new_value) :\n",
    "    for patch in ax.patches :\n",
    "        current_width = patch.get_width()\n",
    "        diff = current_width - new_value\n",
    "\n",
    "        # we change the bar width\n",
    "        patch.set_width(new_value)\n",
    "\n",
    "        # we recenter the bar\n",
    "        patch.set_x(patch.get_x() + diff * .5)\n"
   ]
  },
  {
   "cell_type": "markdown",
   "id": "15961f48",
   "metadata": {},
   "source": [
    "## Webframe works used with Highest Annual Salaries"
   ]
  },
  {
   "cell_type": "code",
   "execution_count": 204,
   "id": "242341be",
   "metadata": {},
   "outputs": [],
   "source": [
    "df1=df.copy()\n",
    "df1['WebframeHaveWorkedWith'] = df1['WebframeHaveWorkedWith'].astype(str).apply(lambda x:x.split(';'))\n",
    "df1 = df1.explode('WebframeHaveWorkedWith')\n",
    "order = df1[['WebframeHaveWorkedWith','AnnualSalary']].groupby('WebframeHaveWorkedWith').mean()['AnnualSalary'].sort_values(ascending = False).index\n",
    "#plt.figure(figsize=(12,8))\n",
    "#ax = sns.barplot(data = df1 , x = 'WebframeHaveWorkedWith' , y = 'AnnualSalary' , order = order, ci = None)\n",
    "#ax.set_xticklabels(ax.get_xticklabels(),rotation = 90)"
   ]
  },
  {
   "cell_type": "code",
   "execution_count": 205,
   "id": "36d6e1aa",
   "metadata": {},
   "outputs": [
    {
     "data": {
      "text/plain": [
       "<AxesSubplot:xlabel='WebframeHaveWorkedWith'>"
      ]
     },
     "execution_count": 205,
     "metadata": {},
     "output_type": "execute_result"
    },
    {
     "data": {
      "image/png": "[encoded data removed]",
      "text/plain": [
       "<Figure size 864x576 with 1 Axes>"
      ]
     },
     "metadata": {
      "needs_background": "light"
     },
     "output_type": "display_data"
    }
   ],
   "source": [
    "df1[['WebframeHaveWorkedWith','AnnualSalary']].groupby('WebframeHaveWorkedWith').mean()['AnnualSalary'].sort_values(ascending = False).plot(\n",
    "kind = 'bar' , x = 'WebframeHaveWorkedWith' , y = 'AnnualSalary' , figsize = (12,8))"
   ]
  },
  {
   "cell_type": "markdown",
   "id": "662b33bc",
   "metadata": {},
   "source": [
    "## Management Information Systems used with Highest Annual Salaries"
   ]
  },
  {
   "cell_type": "code",
   "execution_count": 206,
   "id": "1e2354f5",
   "metadata": {},
   "outputs": [],
   "source": [
    "df1=df.copy()\n",
    "df1['MiscTechHaveWorkedWith'] = df1['MiscTechHaveWorkedWith'].astype(str).apply(lambda x:x.split(';'))\n",
    "df1 = df1.explode('MiscTechHaveWorkedWith')\n",
    "order = df1[['MiscTechHaveWorkedWith','AnnualSalary']].groupby('MiscTechHaveWorkedWith').mean()['AnnualSalary'].sort_values(ascending = False).index\n",
    "#plt.figure(figsize=(12,8))\n",
    "#ax = sns.barplot(data = df1 , x = 'MiscTechHaveWorkedWith' , y = 'AnnualSalary' , order = order, ci = None)\n",
    "#ax.set_xticklabels(ax.get_xticklabels(),rotation = 90)"
   ]
  },
  {
   "cell_type": "code",
   "execution_count": 207,
   "id": "befcaab9",
   "metadata": {},
   "outputs": [
    {
     "data": {
      "text/plain": [
       "<AxesSubplot:xlabel='MiscTechHaveWorkedWith'>"
      ]
     },
     "execution_count": 207,
     "metadata": {},
     "output_type": "execute_result"
    },
    {
     "data": {
      "image/png": "[encoded data removed]",
      "text/plain": [
       "<Figure size 864x576 with 1 Axes>"
      ]
     },
     "metadata": {
      "needs_background": "light"
     },
     "output_type": "display_data"
    }
   ],
   "source": [
    "df1[['MiscTechHaveWorkedWith','AnnualSalary']].groupby('MiscTechHaveWorkedWith').mean()['AnnualSalary'].sort_values(ascending = False).plot(\n",
    "kind = 'bar' , x= 'MiscTechHaveWorkedWith' , y = 'AnnualSalary' , figsize = (12,8))"
   ]
  },
  {
   "cell_type": "markdown",
   "id": "8aa88a4a",
   "metadata": {},
   "source": [
    "## Number of Male and Female Developers "
   ]
  },
  {
   "cell_type": "code",
   "execution_count": 208,
   "id": "e19397ad",
   "metadata": {},
   "outputs": [
    {
     "data": {
      "image/png": "[encoded data removed]",
      "text/plain": [
       "<Figure size 864x576 with 1 Axes>"
      ]
     },
     "metadata": {
      "needs_background": "light"
     },
     "output_type": "display_data"
    }
   ],
   "source": [
    "fig, ax = plt.subplots(figsize =(12,8))\n",
    "df['GenderEditted'].value_counts().plot(kind = 'bar',figsize = (12,8))\n",
    "\n",
    "\n",
    "change_width(ax, .35)\n",
    "plt.show()"
   ]
  },
  {
   "cell_type": "markdown",
   "id": "d7b263a0",
   "metadata": {},
   "source": [
    "## Average Developer Ages "
   ]
  },
  {
   "cell_type": "code",
   "execution_count": 209,
   "id": "4f180d4b",
   "metadata": {},
   "outputs": [
    {
     "data": {
      "text/plain": [
       "33.48671205446536"
      ]
     },
     "execution_count": 209,
     "metadata": {},
     "output_type": "execute_result"
    }
   ],
   "source": [
    "df['Age'].mean()"
   ]
  },
  {
   "cell_type": "markdown",
   "id": "1d003f72",
   "metadata": {},
   "source": [
    "## Comparison Between Average Annual Salary for Data Scientists and Full Stack Developers"
   ]
  },
  {
   "cell_type": "code",
   "execution_count": 210,
   "id": "767fd783",
   "metadata": {},
   "outputs": [
    {
     "data": {
      "image/png": "[encoded data removed]",
      "text/plain": [
       "<Figure size 864x576 with 1 Axes>"
      ]
     },
     "metadata": {
      "needs_background": "light"
     },
     "output_type": "display_data"
    }
   ],
   "source": [
    "color = sns.color_palette(\"RdBu\", 10)[-1]\n",
    "y = [df.loc[df['IsFullStack'] == 1 , 'AnnualSalary'].mean() , df.loc[df['IsDataScientist'] == 1 , 'AnnualSalary'].mean()]\n",
    "x = ['Full Stack','Data Scientist']\n",
    "\n",
    "fig, ax = plt.subplots(figsize =(12,8))\n",
    "sns.barplot(data = df , x = x , y = y , ci = None , color = color)\n",
    "change_width(ax, .35)\n",
    "plt.show()"
   ]
  },
  {
   "cell_type": "markdown",
   "id": "0265c99f",
   "metadata": {},
   "source": [
    "## Number of Data Scientists In Each Continent"
   ]
  },
  {
   "cell_type": "code",
   "execution_count": 211,
   "id": "4e5ccdab",
   "metadata": {},
   "outputs": [
    {
     "data": {
      "text/plain": [
       "<AxesSubplot:xlabel='Continent'>"
      ]
     },
     "execution_count": 211,
     "metadata": {},
     "output_type": "execute_result"
    },
    {
     "data": {
      "image/png": "[encoded data removed]",
      "text/plain": [
       "<Figure size 864x576 with 1 Axes>"
      ]
     },
     "metadata": {
      "needs_background": "light"
     },
     "output_type": "display_data"
    }
   ],
   "source": [
    "plt.figure(figsize= (12,8))\n",
    "df.groupby('Continent').sum()['IsDataScientist'].sort_values(ascending =False).plot(kind = 'bar')"
   ]
  },
  {
   "cell_type": "markdown",
   "id": "22af010f",
   "metadata": {},
   "source": [
    "## Number of Full Stack Developers in Each Continent"
   ]
  },
  {
   "cell_type": "code",
   "execution_count": 212,
   "id": "a2c7efc7",
   "metadata": {},
   "outputs": [
    {
     "data": {
      "text/plain": [
       "<AxesSubplot:xlabel='Continent'>"
      ]
     },
     "execution_count": 212,
     "metadata": {},
     "output_type": "execute_result"
    },
    {
     "data": {
      "image/png": "[encoded data removed]",
      "text/plain": [
       "<Figure size 864x576 with 1 Axes>"
      ]
     },
     "metadata": {
      "needs_background": "light"
     },
     "output_type": "display_data"
    }
   ],
   "source": [
    "plt.figure(figsize= (12,8))\n",
    "df.groupby('Continent').sum()['IsFullStack'].sort_values(ascending = False).plot(kind = 'bar')"
   ]
  },
  {
   "cell_type": "markdown",
   "id": "24690499",
   "metadata": {},
   "source": [
    "# Insights About Software Developer Jobs In Egypt"
   ]
  },
  {
   "cell_type": "code",
   "execution_count": 213,
   "id": "be2962eb",
   "metadata": {},
   "outputs": [],
   "source": [
    "EgyptData = df[df['Country'] == 'Egypt']"
   ]
  },
  {
   "cell_type": "markdown",
   "id": "394e2db7",
   "metadata": {},
   "source": [
    "## Software Specializations with highest Annual Salaries"
   ]
  },
  {
   "cell_type": "code",
   "execution_count": 214,
   "id": "2c8f966f",
   "metadata": {},
   "outputs": [
    {
     "data": {
      "text/plain": [
       "<AxesSubplot:xlabel='DevType'>"
      ]
     },
     "execution_count": 214,
     "metadata": {},
     "output_type": "execute_result"
    },
    {
     "data": {
      "image/png": "[encoded data removed]",
      "text/plain": [
       "<Figure size 864x576 with 1 Axes>"
      ]
     },
     "metadata": {
      "needs_background": "light"
     },
     "output_type": "display_data"
    }
   ],
   "source": [
    "df1=EgyptData.copy()\n",
    "df1['DevType'] = df1['DevType'].astype(str).apply(lambda x:x.split(';')[0])\n",
    "df1 = df1.explode('DevType')\n",
    "df1[['DevType','AnnualSalary']].groupby('DevType').mean()['AnnualSalary'].sort_values(ascending = False).plot(\n",
    "x= 'DevType' , y= 'AnnualSalary' , kind = 'bar' , figsize = (12,8))\n",
    "#plt.figure(figsize=(12,8))\n",
    "#ax = sns.barplot(data = df1 , x = 'DevType' , y = 'AnnualSalary' , order = order, ci = None)\n",
    "#ax.set_xticklabels(ax.get_xticklabels(),rotation = 90)"
   ]
  },
  {
   "cell_type": "markdown",
   "id": "9e840ae8",
   "metadata": {},
   "source": [
    "## Number of Developers for Every Specilization in Egypt's Data"
   ]
  },
  {
   "cell_type": "code",
   "execution_count": 215,
   "id": "77378d5a",
   "metadata": {},
   "outputs": [
    {
     "data": {
      "text/plain": [
       "<AxesSubplot:>"
      ]
     },
     "execution_count": 215,
     "metadata": {},
     "output_type": "execute_result"
    },
    {
     "data": {
      "image/png": "[encoded data removed]",
      "text/plain": [
       "<Figure size 864x576 with 1 Axes>"
      ]
     },
     "metadata": {
      "needs_background": "light"
     },
     "output_type": "display_data"
    }
   ],
   "source": [
    "df1['DevType'].value_counts().plot(kind = 'bar', x = 'DevType' ,figsize = (12,8))"
   ]
  },
  {
   "cell_type": "markdown",
   "id": "05c4bb79",
   "metadata": {},
   "source": [
    "## Average Annual Salary for Genders in Egypt"
   ]
  },
  {
   "cell_type": "code",
   "execution_count": 216,
   "id": "67d6db80",
   "metadata": {},
   "outputs": [
    {
     "data": {
      "image/png": "[encoded data removed]",
      "text/plain": [
       "<Figure size 864x576 with 1 Axes>"
      ]
     },
     "metadata": {
      "needs_background": "light"
     },
     "output_type": "display_data"
    }
   ],
   "source": [
    "fig, ax = plt.subplots(figsize =(12,8))\n",
    "EgyptData.groupby('GenderEditted').mean()['AnnualSalary'].plot(kind = 'bar')\n",
    "change_width(ax, .35)\n",
    "plt.show()"
   ]
  },
  {
   "cell_type": "markdown",
   "id": "61942ef6",
   "metadata": {},
   "source": [
    "## Relation between Annual Salary and Years of Coding"
   ]
  },
  {
   "cell_type": "code",
   "execution_count": 217,
   "id": "4b4eebd5",
   "metadata": {},
   "outputs": [
    {
     "data": {
      "text/plain": [
       "<AxesSubplot:xlabel='AnnualSalary', ylabel='YearsCode'>"
      ]
     },
     "execution_count": 217,
     "metadata": {},
     "output_type": "execute_result"
    },
    {
     "data": {
      "image/png": "[encoded data removed]",
      "text/plain": [
       "<Figure size 864x576 with 1 Axes>"
      ]
     },
     "metadata": {
      "needs_background": "light"
     },
     "output_type": "display_data"
    }
   ],
   "source": [
    "plt.figure(figsize =(12,8))\n",
    "sns.scatterplot(data = df , x = 'AnnualSalary' , y = 'YearsCode')"
   ]
  },
  {
   "cell_type": "code",
   "execution_count": 218,
   "id": "ae73855a",
   "metadata": {},
   "outputs": [
    {
     "data": {
      "text/plain": [
       "<AxesSubplot:xlabel='AnnualSalary', ylabel='Age'>"
      ]
     },
     "execution_count": 218,
     "metadata": {},
     "output_type": "execute_result"
    },
    {
     "data": {
      "image/png": "[encoded data removed]",
      "text/plain": [
       "<Figure size 864x576 with 1 Axes>"
      ]
     },
     "metadata": {
      "needs_background": "light"
     },
     "output_type": "display_data"
    }
   ],
   "source": [
    "plt.figure(figsize =(12,8))\n",
    "sns.scatterplot(data = df , x = 'AnnualSalary' , y = 'Age')"
   ]
  },
  {
   "cell_type": "markdown",
   "id": "9bbd13f1",
   "metadata": {},
   "source": [
    "## Top 10 Countries with High number of Data Scientists"
   ]
  },
  {
   "cell_type": "code",
   "execution_count": 219,
   "id": "b776aa61",
   "metadata": {},
   "outputs": [
    {
     "data": {
      "text/plain": [
       "<AxesSubplot:xlabel='index'>"
      ]
     },
     "execution_count": 219,
     "metadata": {},
     "output_type": "execute_result"
    },
    {
     "data": {
      "image/png": "[encoded data removed]",
      "text/plain": [
       "<Figure size 864x576 with 1 Axes>"
      ]
     },
     "metadata": {
      "needs_background": "light"
     },
     "output_type": "display_data"
    }
   ],
   "source": [
    "df.loc[df['IsDataScientist'] == 1]['Country'].value_counts().reset_index().nlargest(10,'Country').plot(kind ='bar' ,x = 'index',figsize=(12,8))"
   ]
  },
  {
   "cell_type": "code",
   "execution_count": 220,
   "id": "b881bedb",
   "metadata": {},
   "outputs": [],
   "source": [
    "GermanyData = df.loc[df['Country'] == 'Germany']"
   ]
  },
  {
   "cell_type": "markdown",
   "id": "e73e15d1",
   "metadata": {},
   "source": [
    "## Male and Female Annual Salaries in Egypt and Germany"
   ]
  },
  {
   "cell_type": "code",
   "execution_count": 221,
   "id": "ed7d5137",
   "metadata": {},
   "outputs": [
    {
     "data": {
      "image/png": "[encoded data removed]",
      "text/plain": [
       "<Figure size 864x576 with 2 Axes>"
      ]
     },
     "metadata": {
      "needs_background": "light"
     },
     "output_type": "display_data"
    },
    {
     "data": {
      "text/plain": [
       "<Figure size 576x576 with 0 Axes>"
      ]
     },
     "metadata": {},
     "output_type": "display_data"
    }
   ],
   "source": [
    "f, axes = plt.subplots(1, 2 ,figsize = (12,8))\n",
    "plt.figure(figsize=(8,8))\n",
    "axegypt = sns.barplot(data= EgyptData, x='EmployeeLevel', y ='AnnualSalary', hue = 'GenderEditted', ax=axes[0] , ci =None  )\n",
    "axgermany = sns.barplot(data = GermanyData, x='EmployeeLevel', y ='AnnualSalary', hue = 'GenderEditted', ax=axes[1] ,ci =None )\n",
    "axegypt.set(title = \"Egypt\")\n",
    "axgermany.set(title ='Germany')\n",
    "plt.tight_layout()"
   ]
  },
  {
   "cell_type": "code",
   "execution_count": 222,
   "id": "c6404767",
   "metadata": {},
   "outputs": [
    {
     "data": {
      "image/png": "[encoded data removed]",
      "text/plain": [
       "<Figure size 864x576 with 1 Axes>"
      ]
     },
     "metadata": {
      "needs_background": "light"
     },
     "output_type": "display_data"
    }
   ],
   "source": [
    "fig, ax = plt.subplots(figsize =(12,8))\n",
    "sns.barplot(x = x ,y = y , color = color)\n",
    "change_width(ax, .35)\n",
    "plt.show()"
   ]
  },
  {
   "cell_type": "markdown",
   "id": "83716025",
   "metadata": {},
   "source": [
    "## Comparison Between Male and Female Junior level Data Scientists For Each Continent"
   ]
  },
  {
   "cell_type": "code",
   "execution_count": 223,
   "id": "177d84bb",
   "metadata": {},
   "outputs": [
    {
     "data": {
      "text/plain": [
       "(array([0, 1, 2, 3, 4, 5]),\n",
       " [Text(0, 0, 'North America'),\n",
       "  Text(1, 0, 'Asia'),\n",
       "  Text(2, 0, 'Europe'),\n",
       "  Text(3, 0, 'Africa'),\n",
       "  Text(4, 0, 'South America'),\n",
       "  Text(5, 0, 'Australia')])"
      ]
     },
     "execution_count": 223,
     "metadata": {},
     "output_type": "execute_result"
    },
    {
     "data": {
      "image/png": "[encoded data removed]",
      "text/plain": [
       "<Figure size 864x576 with 1 Axes>"
      ]
     },
     "metadata": {
      "needs_background": "light"
     },
     "output_type": "display_data"
    }
   ],
   "source": [
    "plt.figure(figsize = (12,8))\n",
    "sns.barplot(data =df[(df['EmployeeLevel'] == 'Junior') &(df['IsDataScientist'] == 1)] , x = 'Continent' , y = 'AnnualSalary' , hue = 'GenderEditted',ci =None )\n",
    "plt.xticks(rotation = 90)"
   ]
  },
  {
   "cell_type": "markdown",
   "id": "f3f36522",
   "metadata": {},
   "source": [
    "## Comparison Between Male and Female Junior level Full Stack For Each Continent"
   ]
  },
  {
   "cell_type": "code",
   "execution_count": 224,
   "id": "87e8506e",
   "metadata": {},
   "outputs": [
    {
     "data": {
      "text/plain": [
       "(array([0, 1, 2, 3, 4, 5]),\n",
       " [Text(0, 0, 'Europe'),\n",
       "  Text(1, 0, 'Africa'),\n",
       "  Text(2, 0, 'Asia'),\n",
       "  Text(3, 0, 'North America'),\n",
       "  Text(4, 0, 'South America'),\n",
       "  Text(5, 0, 'Australia')])"
      ]
     },
     "execution_count": 224,
     "metadata": {},
     "output_type": "execute_result"
    },
    {
     "data": {
      "image/png": "[encoded data removed]",
      "text/plain": [
       "<Figure size 864x576 with 1 Axes>"
      ]
     },
     "metadata": {
      "needs_background": "light"
     },
     "output_type": "display_data"
    }
   ],
   "source": [
    "plt.figure(figsize = (12,8))\n",
    "sns.barplot(data =df[(df['EmployeeLevel'] == 'Junior') &(df['IsFullStack'] == 1)] , x = 'Continent' , y = 'AnnualSalary' , hue = 'GenderEditted',ci =None )\n",
    "plt.xticks(rotation = 90)"
   ]
  },
  {
   "cell_type": "markdown",
   "id": "3880ec2c",
   "metadata": {},
   "source": [
    "## Comparison Between Male and Female Junior Level Data Scientist Annual Salary "
   ]
  },
  {
   "cell_type": "code",
   "execution_count": 225,
   "id": "44fbae3d",
   "metadata": {},
   "outputs": [
    {
     "data": {
      "image/png": "[encoded data removed]",
      "text/plain": [
       "<Figure size 864x576 with 1 Axes>"
      ]
     },
     "metadata": {
      "needs_background": "light"
     },
     "output_type": "display_data"
    }
   ],
   "source": [
    "\n",
    "fig, ax = plt.subplots(figsize =(12,8))\n",
    "sns.barplot(data =df[(df['EmployeeLevel'] == 'Junior') &(df['IsDataScientist'] == 1)].groupby('GenderEditted').mean()['AnnualSalary'].reset_index(),\n",
    "            x= 'GenderEditted' , y='AnnualSalary' , color = color )\n",
    "\n",
    "change_width(ax, .35)\n",
    "plt.show()"
   ]
  },
  {
   "cell_type": "markdown",
   "id": "bd0dfad1",
   "metadata": {},
   "source": [
    "## Comparison Between Male and Female Junior Level Full Stack Developers Annual Salary "
   ]
  },
  {
   "cell_type": "code",
   "execution_count": 226,
   "id": "0b953adb",
   "metadata": {},
   "outputs": [
    {
     "data": {
      "image/png": "[encoded data removed]",
      "text/plain": [
       "<Figure size 864x576 with 1 Axes>"
      ]
     },
     "metadata": {
      "needs_background": "light"
     },
     "output_type": "display_data"
    }
   ],
   "source": [
    "fig, ax = plt.subplots(figsize =(12,8))\n",
    "sns.barplot(data =df[(df['EmployeeLevel'] == 'Junior') &(df['IsFullStack'] == 1)].groupby('GenderEditted').mean()['AnnualSalary'].reset_index(),\n",
    "            x= 'GenderEditted' , y='AnnualSalary' , color = color )\n",
    "change_width(ax, .35)\n",
    "plt.show()"
   ]
  },
  {
   "cell_type": "code",
   "execution_count": null,
   "id": "5e3c8ef5",
   "metadata": {},
   "outputs": [],
   "source": []
  }
 ],
 "metadata": {
  "kernelspec": {
   "display_name": "Python 3",
   "language": "python",
   "name": "python3"
  },
  "language_info": {
   "codemirror_mode": {
    "name": "ipython",
    "version": 3
   },
   "file_extension": ".py",
   "mimetype": "text/x-python",
   "name": "python",
   "nbconvert_exporter": "python",
   "pygments_lexer": "ipython3",
   "version": "3.8.8"
  }
 },
 "nbformat": 4,
 "nbformat_minor": 5
}
